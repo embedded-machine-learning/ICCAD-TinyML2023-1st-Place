{
 "cells": [
  {
   "cell_type": "markdown",
   "metadata": {},
   "source": [
    "This example copies a lot from [a pytorch tutorial](https://pytorch.org/tutorials/beginner/blitz/cifar10_tutorial.html)\n"
   ]
  },
  {
   "cell_type": "code",
   "execution_count": 1,
   "metadata": {},
   "outputs": [],
   "source": [
    "import torch.optim as optim\n",
    "import torchvision.transforms as transforms\n",
    "import torchvision\n",
    "import torch.nn.functional as F\n",
    "import torch.nn as nn\n",
    "import torch\n",
    "import os\n",
    "import sys\n",
    "\n",
    "# To be able to import model\n",
    "sys.path.append('/'+'/'.join(os.getcwd().split('/')[:-1])+'/')\n",
    "\n",
    "from model.wrapped import FlattenM, MaxPool2d, Dropout, AdaptiveAvgPool2d\n",
    "from model.blocks import ConvBnA, LinBnA, BasicBlock\n",
    "from model.activations import ReLU, PACT\n",
    "from model.Conversion import Start, Stop\n",
    "from tqdm import tqdm\n",
    "from model.QuantizationMethods.MinMSE import MinMSE_convolution_weight_quantization, MinMSE_linear_weight_quantization\n",
    "from model.Quantizer import LinQuantExpScale\n",
    "from model.sequential import Sequential\n",
    "from model.linear import Linear\n",
    "\n",
    "\n",
    "path = 'cifa10_resnet'\n",
    "\n",
    "\n",
    "if not os.path.exists('./runs'):\n",
    "    os.mkdir('./runs')\n",
    "if not os.path.exists(f'./runs/{path}'):\n",
    "    os.mkdir(f'./runs/{path}')"
   ]
  },
  {
   "cell_type": "code",
   "execution_count": 2,
   "metadata": {},
   "outputs": [],
   "source": [
    "batch_size = 80\n",
    "epochs = 50"
   ]
  },
  {
   "cell_type": "code",
   "execution_count": 3,
   "metadata": {},
   "outputs": [
    {
     "name": "stdout",
     "output_type": "stream",
     "text": [
      "Files already downloaded and verified\n",
      "Files already downloaded and verified\n"
     ]
    }
   ],
   "source": [
    "# Getting the dataset\n",
    "\n",
    "transform_train = transforms.Compose([\n",
    "    transforms.RandomHorizontalFlip(),\n",
    "    transforms.ToTensor(),\n",
    "    transforms.Normalize((0.5, 0.5, 0.5), (.3, .3, .3))])\n",
    "transform_test = transforms.Compose(\n",
    "    [transforms.ToTensor(),\n",
    "     transforms.Normalize((0.5, 0.5, 0.5), (.3, .3, .3))])\n",
    "\n",
    "trainset = torchvision.datasets.CIFAR10(root='./data', train=True,\n",
    "                                        download=True, transform=transform_train)\n",
    "trainloader = torch.utils.data.DataLoader(trainset, batch_size=batch_size,\n",
    "                                          shuffle=True)\n",
    "\n",
    "testset = torchvision.datasets.CIFAR10(root='./data', train=False,\n",
    "                                       download=True, transform=transform_test)\n",
    "testloader = torch.utils.data.DataLoader(testset, batch_size=batch_size,\n",
    "                                         shuffle=False)\n",
    "\n",
    "classes = ('plane', 'car', 'bird', 'cat',\n",
    "           'deer', 'dog', 'frog', 'horse', 'ship', 'truck')"
   ]
  },
  {
   "cell_type": "code",
   "execution_count": 4,
   "metadata": {},
   "outputs": [],
   "source": [
    "weight_quant = MinMSE_convolution_weight_quantization\n",
    "\n",
    "class Net(nn.Module):\n",
    "    def __init__(self):\n",
    "        super().__init__()\n",
    "        # Start and Stop modules convert the Float values to the fake quantized domain\n",
    "        # and during inference to the integer domain expressed by a float (necessary due to NVIDIA)\n",
    "        self.start = Start(bits=8,size=(1,3,1,1),mode=\"auto\",auto_runs=2)\n",
    "        # mode=\"auto\" simply measures min and max of the input and quantized to them in a symmetric manner \n",
    "        self.stop = Stop(size=(1,10))\n",
    "        \n",
    "        self.seq = Sequential(\n",
    "            ConvBnA(  3, 128,3,1,1,activation=PACT,weight_quant=weight_quant),\n",
    "            BasicBlock(128,128,1),\n",
    "            Dropout(0.1),\n",
    "            \n",
    "            BasicBlock(128,256,2),\n",
    "            Dropout(0.1),\n",
    "\n",
    "            BasicBlock(256,512,2),\n",
    "            Dropout(0.1),\n",
    "\n",
    "            AdaptiveAvgPool2d((1,1)),\n",
    "            FlattenM(1),\n",
    "            LinBnA(512,10,weight_quant=MinMSE_linear_weight_quantization,weight_quant_channel_wise=True,activation=LinQuantExpScale,affine=False),\n",
    "        )\n",
    "\n",
    "    def forward(self, x):\n",
    "        x = self.start(x)\n",
    "        x = self.seq(x)\n",
    "        x = self.stop(x)\n",
    "        return x"
   ]
  },
  {
   "cell_type": "code",
   "execution_count": 5,
   "metadata": {},
   "outputs": [],
   "source": [
    "def eval(net, pr=True):\n",
    "    global testloader,device\n",
    "    global best\n",
    "    correct = 0\n",
    "    total = 0\n",
    "    # since we're not training, we don't need to calculate the gradients for our outputs\n",
    "    net.eval()\n",
    "    with torch.no_grad():\n",
    "        for data in testloader:\n",
    "            images, labels = data\n",
    "            images = images.to(device,non_blocking=True)\n",
    "            labels = labels.to(device,non_blocking=True)\n",
    "            # calculate outputs by running images through the network\n",
    "            outputs = net(images)\n",
    "            # loss = criterion(outputs, target)\n",
    "\n",
    "            # the class with the highest energy is what we choose as prediction\n",
    "            _, predicted = torch.max(outputs.data, 1)\n",
    "            total += labels.size(0)\n",
    "            correct += (predicted == labels).sum().item()\n",
    "    net.train()\n",
    "    if pr:\n",
    "        print(f'Accuracy of the network on the 10000 test images: {100 * correct / total:4.1f} %')\n",
    "    if best < 100 * correct / total:\n",
    "        best = 100 * correct / total\n",
    "\n",
    "    return 100 * correct / total, best\n"
   ]
  },
  {
   "cell_type": "code",
   "execution_count": 6,
   "metadata": {},
   "outputs": [],
   "source": [
    "net = Net()\n",
    "device = torch.device('cuda' if torch.cuda.is_available() else 'cpu')\n",
    "net = net.to(device)\n",
    "\n",
    "\n",
    "criterion = nn.CrossEntropyLoss(label_smoothing=0.1)\n",
    "optimizer = optim.SGD(net.parameters(), lr=0.1, momentum=0.9,weight_decay=5e-4)\n",
    "sched= optim.lr_scheduler.CosineAnnealingLR(optimizer,epochs,1e-5,verbose=False)\n",
    "\n",
    "best = 0"
   ]
  },
  {
   "cell_type": "code",
   "execution_count": 7,
   "metadata": {},
   "outputs": [
    {
     "name": "stderr",
     "output_type": "stream",
     "text": [
      "100%|██████████| 625/625 [00:52<00:00, 11.80it/s, loss=1.62, acc=0.499]\n"
     ]
    },
    {
     "name": "stdout",
     "output_type": "stream",
     "text": [
      "reduce autorun by 1: 1 min/max -1.6666666269302368 / 1.6666666269302368\n",
      "[  1,   625] loss: 129.693,Train Acc: 40.0, Test Acc:57.2%, Best test Acc:57.2%\n"
     ]
    },
    {
     "name": "stderr",
     "output_type": "stream",
     "text": [
      "100%|██████████| 625/625 [00:51<00:00, 12.06it/s, loss=1.34, acc=0.662]\n"
     ]
    },
    {
     "name": "stdout",
     "output_type": "stream",
     "text": [
      "reduce autorun by 1: 0 min/max -1.6666666269302368 / 1.6666666269302368\n",
      "[  2,   625] loss: 107.023,Train Acc: 52.9, Test Acc:63.3%, Best test Acc:63.3%\n"
     ]
    },
    {
     "name": "stderr",
     "output_type": "stream",
     "text": [
      "100%|██████████| 625/625 [00:51<00:00, 12.16it/s, loss=1.21, acc=0.733]\n"
     ]
    },
    {
     "name": "stdout",
     "output_type": "stream",
     "text": [
      "[  3,   625] loss: 96.648,Train Acc: 58.7, Test Acc:69.6%, Best test Acc:69.6%\n"
     ]
    },
    {
     "name": "stderr",
     "output_type": "stream",
     "text": [
      "100%|██████████| 625/625 [00:53<00:00, 11.65it/s, loss=1.12, acc=0.779]\n"
     ]
    },
    {
     "name": "stdout",
     "output_type": "stream",
     "text": [
      "[  4,   625] loss: 89.714,Train Acc: 62.3, Test Acc:73.0%, Best test Acc:73.0%\n"
     ]
    },
    {
     "name": "stderr",
     "output_type": "stream",
     "text": [
      "100%|██████████| 625/625 [00:53<00:00, 11.61it/s, loss=1.07, acc=0.807]\n"
     ]
    },
    {
     "name": "stdout",
     "output_type": "stream",
     "text": [
      "[  5,   625] loss: 85.303,Train Acc: 64.6, Test Acc:77.1%, Best test Acc:77.1%\n"
     ]
    },
    {
     "name": "stderr",
     "output_type": "stream",
     "text": [
      "100%|██████████| 625/625 [00:53<00:00, 11.59it/s, loss=1.04, acc=0.822]\n"
     ]
    },
    {
     "name": "stdout",
     "output_type": "stream",
     "text": [
      "[  6,   625] loss: 83.047,Train Acc: 65.8, Test Acc:80.1%, Best test Acc:80.1%\n"
     ]
    },
    {
     "name": "stderr",
     "output_type": "stream",
     "text": [
      "100%|██████████| 625/625 [00:54<00:00, 11.48it/s, loss=1.01, acc=0.836] \n"
     ]
    },
    {
     "name": "stdout",
     "output_type": "stream",
     "text": [
      "[  7,   625] loss: 80.690,Train Acc: 66.8, Test Acc:80.8%, Best test Acc:80.8%\n"
     ]
    },
    {
     "name": "stderr",
     "output_type": "stream",
     "text": [
      "100%|██████████| 625/625 [00:56<00:00, 11.11it/s, loss=0.991, acc=0.847]\n"
     ]
    },
    {
     "name": "stdout",
     "output_type": "stream",
     "text": [
      "[  8,   625] loss: 79.300,Train Acc: 67.8, Test Acc:79.1%, Best test Acc:80.8%\n"
     ]
    },
    {
     "name": "stderr",
     "output_type": "stream",
     "text": [
      "100%|██████████| 625/625 [00:56<00:00, 11.10it/s, loss=0.98, acc=0.853] \n"
     ]
    },
    {
     "name": "stdout",
     "output_type": "stream",
     "text": [
      "[  9,   625] loss: 78.361,Train Acc: 68.2, Test Acc:79.9%, Best test Acc:80.8%\n"
     ]
    },
    {
     "name": "stderr",
     "output_type": "stream",
     "text": [
      "100%|██████████| 625/625 [00:53<00:00, 11.59it/s, loss=0.972, acc=0.857]\n"
     ]
    },
    {
     "name": "stdout",
     "output_type": "stream",
     "text": [
      "[ 10,   625] loss: 77.765,Train Acc: 68.6, Test Acc:82.1%, Best test Acc:82.1%\n"
     ]
    },
    {
     "name": "stderr",
     "output_type": "stream",
     "text": [
      "100%|██████████| 625/625 [00:55<00:00, 11.20it/s, loss=0.973, acc=0.857]\n"
     ]
    },
    {
     "name": "stdout",
     "output_type": "stream",
     "text": [
      "[ 11,   625] loss: 77.874,Train Acc: 68.6, Test Acc:78.7%, Best test Acc:82.1%\n"
     ]
    },
    {
     "name": "stderr",
     "output_type": "stream",
     "text": [
      "100%|██████████| 625/625 [00:59<00:00, 10.46it/s, loss=0.971, acc=0.856]\n"
     ]
    },
    {
     "name": "stdout",
     "output_type": "stream",
     "text": [
      "[ 12,   625] loss: 77.710,Train Acc: 68.5, Test Acc:76.9%, Best test Acc:82.1%\n"
     ]
    },
    {
     "name": "stderr",
     "output_type": "stream",
     "text": [
      "100%|██████████| 625/625 [00:54<00:00, 11.50it/s, loss=0.972, acc=0.858]\n"
     ]
    },
    {
     "name": "stdout",
     "output_type": "stream",
     "text": [
      "[ 13,   625] loss: 77.770,Train Acc: 68.7, Test Acc:76.8%, Best test Acc:82.1%\n"
     ]
    },
    {
     "name": "stderr",
     "output_type": "stream",
     "text": [
      "100%|██████████| 625/625 [00:55<00:00, 11.26it/s, loss=0.967, acc=0.86] \n"
     ]
    },
    {
     "name": "stdout",
     "output_type": "stream",
     "text": [
      "[ 14,   625] loss: 77.347,Train Acc: 68.8, Test Acc:77.9%, Best test Acc:82.1%\n"
     ]
    },
    {
     "name": "stderr",
     "output_type": "stream",
     "text": [
      "100%|██████████| 625/625 [00:55<00:00, 11.18it/s, loss=0.967, acc=0.861]\n"
     ]
    },
    {
     "name": "stdout",
     "output_type": "stream",
     "text": [
      "[ 15,   625] loss: 77.383,Train Acc: 68.9, Test Acc:84.2%, Best test Acc:84.2%\n"
     ]
    },
    {
     "name": "stderr",
     "output_type": "stream",
     "text": [
      "100%|██████████| 625/625 [00:52<00:00, 11.81it/s, loss=0.96, acc=0.865] \n"
     ]
    },
    {
     "name": "stdout",
     "output_type": "stream",
     "text": [
      "[ 16,   625] loss: 76.804,Train Acc: 69.2, Test Acc:81.1%, Best test Acc:84.2%\n"
     ]
    },
    {
     "name": "stderr",
     "output_type": "stream",
     "text": [
      "100%|██████████| 625/625 [00:46<00:00, 13.42it/s, loss=0.953, acc=0.868]\n"
     ]
    },
    {
     "name": "stdout",
     "output_type": "stream",
     "text": [
      "[ 17,   625] loss: 76.226,Train Acc: 69.4, Test Acc:81.0%, Best test Acc:84.2%\n"
     ]
    },
    {
     "name": "stderr",
     "output_type": "stream",
     "text": [
      "100%|██████████| 625/625 [00:46<00:00, 13.53it/s, loss=0.943, acc=0.872]\n"
     ]
    },
    {
     "name": "stdout",
     "output_type": "stream",
     "text": [
      "[ 18,   625] loss: 75.446,Train Acc: 69.8, Test Acc:74.4%, Best test Acc:84.2%\n"
     ]
    },
    {
     "name": "stderr",
     "output_type": "stream",
     "text": [
      "100%|██████████| 625/625 [00:45<00:00, 13.80it/s, loss=0.937, acc=0.875]\n"
     ]
    },
    {
     "name": "stdout",
     "output_type": "stream",
     "text": [
      "[ 19,   625] loss: 74.983,Train Acc: 70.0, Test Acc:82.8%, Best test Acc:84.2%\n"
     ]
    },
    {
     "name": "stderr",
     "output_type": "stream",
     "text": [
      "100%|██████████| 625/625 [00:44<00:00, 13.97it/s, loss=0.929, acc=0.881]\n"
     ]
    },
    {
     "name": "stdout",
     "output_type": "stream",
     "text": [
      "[ 20,   625] loss: 74.333,Train Acc: 70.5, Test Acc:83.3%, Best test Acc:84.2%\n"
     ]
    },
    {
     "name": "stderr",
     "output_type": "stream",
     "text": [
      "100%|██████████| 625/625 [00:44<00:00, 13.93it/s, loss=0.919, acc=0.885]\n"
     ]
    },
    {
     "name": "stdout",
     "output_type": "stream",
     "text": [
      "[ 21,   625] loss: 73.528,Train Acc: 70.8, Test Acc:85.0%, Best test Acc:85.0%\n"
     ]
    },
    {
     "name": "stderr",
     "output_type": "stream",
     "text": [
      "100%|██████████| 625/625 [00:44<00:00, 13.97it/s, loss=0.91, acc=0.891] \n"
     ]
    },
    {
     "name": "stdout",
     "output_type": "stream",
     "text": [
      "[ 22,   625] loss: 72.829,Train Acc: 71.2, Test Acc:82.9%, Best test Acc:85.0%\n"
     ]
    },
    {
     "name": "stderr",
     "output_type": "stream",
     "text": [
      "100%|██████████| 625/625 [00:44<00:00, 14.00it/s, loss=0.901, acc=0.896]\n"
     ]
    },
    {
     "name": "stdout",
     "output_type": "stream",
     "text": [
      "[ 23,   625] loss: 72.082,Train Acc: 71.7, Test Acc:84.9%, Best test Acc:85.0%\n"
     ]
    },
    {
     "name": "stderr",
     "output_type": "stream",
     "text": [
      "100%|██████████| 625/625 [00:44<00:00, 13.98it/s, loss=0.892, acc=0.902]\n"
     ]
    },
    {
     "name": "stdout",
     "output_type": "stream",
     "text": [
      "[ 24,   625] loss: 71.358,Train Acc: 72.2, Test Acc:86.5%, Best test Acc:86.5%\n"
     ]
    },
    {
     "name": "stderr",
     "output_type": "stream",
     "text": [
      "100%|██████████| 625/625 [00:44<00:00, 13.98it/s, loss=0.882, acc=0.906]\n"
     ]
    },
    {
     "name": "stdout",
     "output_type": "stream",
     "text": [
      "[ 25,   625] loss: 70.555,Train Acc: 72.5, Test Acc:86.0%, Best test Acc:86.5%\n"
     ]
    },
    {
     "name": "stderr",
     "output_type": "stream",
     "text": [
      "100%|██████████| 625/625 [00:44<00:00, 13.98it/s, loss=0.874, acc=0.91] \n"
     ]
    },
    {
     "name": "stdout",
     "output_type": "stream",
     "text": [
      "[ 26,   625] loss: 69.918,Train Acc: 72.8, Test Acc:87.8%, Best test Acc:87.8%\n"
     ]
    },
    {
     "name": "stderr",
     "output_type": "stream",
     "text": [
      "100%|██████████| 625/625 [00:44<00:00, 13.98it/s, loss=0.862, acc=0.916]\n"
     ]
    },
    {
     "name": "stdout",
     "output_type": "stream",
     "text": [
      "[ 27,   625] loss: 68.990,Train Acc: 73.3, Test Acc:85.1%, Best test Acc:87.8%\n"
     ]
    },
    {
     "name": "stderr",
     "output_type": "stream",
     "text": [
      "100%|██████████| 625/625 [00:46<00:00, 13.48it/s, loss=0.851, acc=0.922]\n"
     ]
    },
    {
     "name": "stdout",
     "output_type": "stream",
     "text": [
      "[ 28,   625] loss: 68.062,Train Acc: 73.8, Test Acc:87.3%, Best test Acc:87.8%\n"
     ]
    },
    {
     "name": "stderr",
     "output_type": "stream",
     "text": [
      "100%|██████████| 625/625 [00:44<00:00, 13.94it/s, loss=0.837, acc=0.93] \n"
     ]
    },
    {
     "name": "stdout",
     "output_type": "stream",
     "text": [
      "[ 29,   625] loss: 66.994,Train Acc: 74.4, Test Acc:87.5%, Best test Acc:87.8%\n"
     ]
    },
    {
     "name": "stderr",
     "output_type": "stream",
     "text": [
      "100%|██████████| 625/625 [00:49<00:00, 12.61it/s, loss=0.827, acc=0.934]\n"
     ]
    },
    {
     "name": "stdout",
     "output_type": "stream",
     "text": [
      "[ 30,   625] loss: 66.148,Train Acc: 74.7, Test Acc:87.8%, Best test Acc:87.8%\n"
     ]
    },
    {
     "name": "stderr",
     "output_type": "stream",
     "text": [
      "100%|██████████| 625/625 [00:51<00:00, 12.11it/s, loss=0.813, acc=0.942]\n"
     ]
    },
    {
     "name": "stdout",
     "output_type": "stream",
     "text": [
      "[ 31,   625] loss: 65.052,Train Acc: 75.4, Test Acc:88.7%, Best test Acc:88.7%\n"
     ]
    },
    {
     "name": "stderr",
     "output_type": "stream",
     "text": [
      "100%|██████████| 625/625 [00:51<00:00, 12.23it/s, loss=0.802, acc=0.948]\n"
     ]
    },
    {
     "name": "stdout",
     "output_type": "stream",
     "text": [
      "[ 32,   625] loss: 64.167,Train Acc: 75.8, Test Acc:86.7%, Best test Acc:88.7%\n"
     ]
    },
    {
     "name": "stderr",
     "output_type": "stream",
     "text": [
      "100%|██████████| 625/625 [00:48<00:00, 12.81it/s, loss=0.786, acc=0.956]\n"
     ]
    },
    {
     "name": "stdout",
     "output_type": "stream",
     "text": [
      "[ 33,   625] loss: 62.909,Train Acc: 76.4, Test Acc:88.3%, Best test Acc:88.7%\n"
     ]
    },
    {
     "name": "stderr",
     "output_type": "stream",
     "text": [
      "100%|██████████| 625/625 [00:50<00:00, 12.29it/s, loss=0.772, acc=0.963]\n"
     ]
    },
    {
     "name": "stdout",
     "output_type": "stream",
     "text": [
      "[ 34,   625] loss: 61.752,Train Acc: 77.0, Test Acc:89.0%, Best test Acc:89.0%\n"
     ]
    },
    {
     "name": "stderr",
     "output_type": "stream",
     "text": [
      "100%|██████████| 625/625 [00:51<00:00, 12.05it/s, loss=0.758, acc=0.969]\n"
     ]
    },
    {
     "name": "stdout",
     "output_type": "stream",
     "text": [
      "[ 35,   625] loss: 60.605,Train Acc: 77.6, Test Acc:89.6%, Best test Acc:89.6%\n"
     ]
    },
    {
     "name": "stderr",
     "output_type": "stream",
     "text": [
      "100%|██████████| 625/625 [00:52<00:00, 11.94it/s, loss=0.738, acc=0.979]\n"
     ]
    },
    {
     "name": "stdout",
     "output_type": "stream",
     "text": [
      "[ 36,   625] loss: 59.004,Train Acc: 78.3, Test Acc:90.6%, Best test Acc:90.6%\n"
     ]
    },
    {
     "name": "stderr",
     "output_type": "stream",
     "text": [
      "100%|██████████| 625/625 [00:51<00:00, 12.03it/s, loss=0.725, acc=0.983]\n"
     ]
    },
    {
     "name": "stdout",
     "output_type": "stream",
     "text": [
      "[ 37,   625] loss: 58.029,Train Acc: 78.6, Test Acc:90.6%, Best test Acc:90.6%\n"
     ]
    },
    {
     "name": "stderr",
     "output_type": "stream",
     "text": [
      "100%|██████████| 625/625 [00:51<00:00, 12.05it/s, loss=0.712, acc=0.987]\n"
     ]
    },
    {
     "name": "stdout",
     "output_type": "stream",
     "text": [
      "[ 38,   625] loss: 56.950,Train Acc: 79.0, Test Acc:91.2%, Best test Acc:91.2%\n"
     ]
    },
    {
     "name": "stderr",
     "output_type": "stream",
     "text": [
      "100%|██████████| 625/625 [00:52<00:00, 11.94it/s, loss=0.698, acc=0.992]\n"
     ]
    },
    {
     "name": "stdout",
     "output_type": "stream",
     "text": [
      "[ 39,   625] loss: 55.852,Train Acc: 79.4, Test Acc:91.8%, Best test Acc:91.8%\n"
     ]
    },
    {
     "name": "stderr",
     "output_type": "stream",
     "text": [
      "100%|██████████| 625/625 [00:53<00:00, 11.61it/s, loss=0.687, acc=0.995]\n"
     ]
    },
    {
     "name": "stdout",
     "output_type": "stream",
     "text": [
      "[ 40,   625] loss: 54.941,Train Acc: 79.6, Test Acc:91.7%, Best test Acc:91.8%\n"
     ]
    },
    {
     "name": "stderr",
     "output_type": "stream",
     "text": [
      "100%|██████████| 625/625 [00:54<00:00, 11.50it/s, loss=0.677, acc=0.996]\n"
     ]
    },
    {
     "name": "stdout",
     "output_type": "stream",
     "text": [
      "[ 41,   625] loss: 54.198,Train Acc: 79.7, Test Acc:92.2%, Best test Acc:92.2%\n"
     ]
    },
    {
     "name": "stderr",
     "output_type": "stream",
     "text": [
      "100%|██████████| 625/625 [00:54<00:00, 11.48it/s, loss=0.668, acc=0.998]\n"
     ]
    },
    {
     "name": "stdout",
     "output_type": "stream",
     "text": [
      "[ 42,   625] loss: 53.411,Train Acc: 79.8, Test Acc:92.4%, Best test Acc:92.4%\n"
     ]
    },
    {
     "name": "stderr",
     "output_type": "stream",
     "text": [
      "100%|██████████| 625/625 [00:55<00:00, 11.29it/s, loss=0.664, acc=0.999]\n"
     ]
    },
    {
     "name": "stdout",
     "output_type": "stream",
     "text": [
      "[ 43,   625] loss: 53.140,Train Acc: 79.9, Test Acc:92.2%, Best test Acc:92.4%\n"
     ]
    },
    {
     "name": "stderr",
     "output_type": "stream",
     "text": [
      "100%|██████████| 625/625 [00:56<00:00, 11.01it/s, loss=0.658, acc=0.999]\n"
     ]
    },
    {
     "name": "stdout",
     "output_type": "stream",
     "text": [
      "[ 44,   625] loss: 52.662,Train Acc: 79.9, Test Acc:92.6%, Best test Acc:92.6%\n"
     ]
    },
    {
     "name": "stderr",
     "output_type": "stream",
     "text": [
      "100%|██████████| 625/625 [00:55<00:00, 11.28it/s, loss=0.655, acc=0.999]\n"
     ]
    },
    {
     "name": "stdout",
     "output_type": "stream",
     "text": [
      "[ 45,   625] loss: 52.406,Train Acc: 79.9, Test Acc:92.5%, Best test Acc:92.6%\n"
     ]
    },
    {
     "name": "stderr",
     "output_type": "stream",
     "text": [
      "100%|██████████| 625/625 [00:54<00:00, 11.48it/s, loss=0.651, acc=1]   \n"
     ]
    },
    {
     "name": "stdout",
     "output_type": "stream",
     "text": [
      "[ 46,   625] loss: 52.044,Train Acc: 80.0, Test Acc:92.5%, Best test Acc:92.6%\n"
     ]
    },
    {
     "name": "stderr",
     "output_type": "stream",
     "text": [
      "100%|██████████| 625/625 [00:53<00:00, 11.64it/s, loss=0.65, acc=1] \n"
     ]
    },
    {
     "name": "stdout",
     "output_type": "stream",
     "text": [
      "[ 47,   625] loss: 51.968,Train Acc: 80.0, Test Acc:92.6%, Best test Acc:92.6%\n"
     ]
    },
    {
     "name": "stderr",
     "output_type": "stream",
     "text": [
      "100%|██████████| 625/625 [00:55<00:00, 11.27it/s, loss=0.648, acc=1]    \n"
     ]
    },
    {
     "name": "stdout",
     "output_type": "stream",
     "text": [
      "[ 48,   625] loss: 51.872,Train Acc: 80.0, Test Acc:92.8%, Best test Acc:92.8%\n"
     ]
    },
    {
     "name": "stderr",
     "output_type": "stream",
     "text": [
      "100%|██████████| 625/625 [00:54<00:00, 11.37it/s, loss=0.647, acc=1]    \n"
     ]
    },
    {
     "name": "stdout",
     "output_type": "stream",
     "text": [
      "[ 49,   625] loss: 51.778,Train Acc: 80.0, Test Acc:92.8%, Best test Acc:92.8%\n"
     ]
    },
    {
     "name": "stderr",
     "output_type": "stream",
     "text": [
      "100%|██████████| 625/625 [00:53<00:00, 11.71it/s, loss=0.647, acc=1]\n"
     ]
    },
    {
     "name": "stdout",
     "output_type": "stream",
     "text": [
      "[ 50,   625] loss: 51.784,Train Acc: 80.0, Test Acc:92.7%, Best test Acc:92.8%\n",
      "Finished Training\n"
     ]
    }
   ],
   "source": [
    "for epoch in range(epochs):  # loop over the dataset multiple times\n",
    "\n",
    "    running_loss = 0.0\n",
    "    training_running_correct = 0\n",
    "    with tqdm(enumerate(trainloader, 0),total=len(trainloader),disable=False) as t:\n",
    "        for i, (data,target) in t:\n",
    "            # get the inputs; data is a list of [inputs, labels]\n",
    "            target = target.to(device,non_blocking=True)\n",
    "            data = data.to(device,non_blocking=True)\n",
    "\n",
    "            # zero the parameter gradients\n",
    "            optimizer.zero_grad(True)\n",
    "\n",
    "            # forward + backward + optimize\n",
    "            outputs = net(data)\n",
    "            loss = criterion(outputs, target)\n",
    "            loss.backward()\n",
    "            optimizer.step()\n",
    "\n",
    "\n",
    "            # print statistics\n",
    "            running_loss += loss.item()\n",
    "\n",
    "            _, preds = torch.sort(outputs.data.clone().detach(), 1,descending=True)\n",
    "            training_running_correct += (preds[:,0].view(-1,1) == target.view(-1,1)).any(dim=1).sum().detach().item()\n",
    "            t.set_postfix({'loss': running_loss/(i+1),'acc':training_running_correct/((i+1)*batch_size)})\n",
    "    ev = eval(net,pr=False)\n",
    "    print(f'[{epoch + 1:3d}, {i + 1:5d}] loss: {running_loss*batch_size/len(trainloader):6.3f},Train Acc: {training_running_correct/len(trainloader):3.1f}, Test Acc:{ev[0]:3.1f}%, Best test Acc:{ev[1]:3.1f}%')\n",
    "    running_loss = 0.0\n",
    "    torch.save(net.state_dict(),f\"./runs/{path}/ckp.pt\")\n",
    "    sched.step()\n",
    "            \n",
    "print('Finished Training')\n"
   ]
  }
 ],
 "metadata": {
  "kernelspec": {
   "display_name": ".env",
   "language": "python",
   "name": "python3"
  },
  "language_info": {
   "codemirror_mode": {
    "name": "ipython",
    "version": 3
   },
   "file_extension": ".py",
   "mimetype": "text/x-python",
   "name": "python",
   "nbconvert_exporter": "python",
   "pygments_lexer": "ipython3",
   "version": "3.11.0rc2"
  },
  "orig_nbformat": 4
 },
 "nbformat": 4,
 "nbformat_minor": 2
}
