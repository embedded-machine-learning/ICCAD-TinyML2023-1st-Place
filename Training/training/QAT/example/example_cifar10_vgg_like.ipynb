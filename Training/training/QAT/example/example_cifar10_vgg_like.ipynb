{
 "cells": [
  {
   "cell_type": "markdown",
   "metadata": {},
   "source": [
    "This example copies a lot from [a pytorch tutorial](https://pytorch.org/tutorials/beginner/blitz/cifar10_tutorial.html)\n"
   ]
  },
  {
   "cell_type": "code",
   "execution_count": 1,
   "metadata": {},
   "outputs": [],
   "source": [
    "import os\n",
    "import sys\n",
    "\n",
    "import torch\n",
    "import torch.nn as nn\n",
    "import torch.nn.functional as F\n",
    "import torchvision\n",
    "import torchvision.transforms as transforms\n",
    "import torch.optim as optim\n",
    "\n",
    "\n",
    "# To be able to import model\n",
    "sys.path.append('/'+'/'.join(os.getcwd().split('/')[:-1])+'/')\n",
    "\n",
    "from model.Conversion import Start,Stop\n",
    "from model.activations import ReLU,PACT\n",
    "from model.linear import Linear\n",
    "from model.wrapped import FlattenM,MaxPool2d,Dropout\n",
    "from model.blocks import ConvBnA,LinBnA\n",
    "from model.sequential import Sequential\n",
    "from model.Quantizer import LinQuantExpScale\n",
    "from model.QuantizationMethods.MinMSE import MinMSE_convolution_weight_quantization, MinMSE_linear_weight_quantization\n",
    "\n",
    "from tqdm import tqdm\n",
    "\n",
    "path = 'cifa10_vgg'\n",
    "\n",
    "\n",
    "if not os.path.exists('./runs'):\n",
    "    os.mkdir('./runs')\n",
    "if not os.path.exists(f'./runs/{path}'):\n",
    "    os.mkdir(f'./runs/{path}')"
   ]
  },
  {
   "cell_type": "code",
   "execution_count": 2,
   "metadata": {},
   "outputs": [],
   "source": [
    "batch_size = 80\n",
    "epochs = 50"
   ]
  },
  {
   "cell_type": "code",
   "execution_count": 3,
   "metadata": {},
   "outputs": [
    {
     "name": "stdout",
     "output_type": "stream",
     "text": [
      "Files already downloaded and verified\n",
      "Files already downloaded and verified\n"
     ]
    }
   ],
   "source": [
    "transform_train = transforms.Compose([\n",
    "    transforms.RandomHorizontalFlip(),\n",
    "    transforms.ToTensor(),\n",
    "    transforms.Normalize((0.5, 0.5, 0.5), (.3, .3, .3))])\n",
    "transform_test = transforms.Compose(\n",
    "    [transforms.ToTensor(),\n",
    "     transforms.Normalize((0.5, 0.5, 0.5), (.3, .3, .3))])\n",
    "\n",
    "trainset = torchvision.datasets.CIFAR10(root='./data', train=True,\n",
    "                                        download=True, transform=transform_train)\n",
    "trainloader = torch.utils.data.DataLoader(trainset, batch_size=batch_size,\n",
    "                                          shuffle=True)\n",
    "\n",
    "testset = torchvision.datasets.CIFAR10(root='./data', train=False,\n",
    "                                       download=True, transform=transform_test)\n",
    "testloader = torch.utils.data.DataLoader(testset, batch_size=batch_size,\n",
    "                                         shuffle=False)\n",
    "\n",
    "classes = ('plane', 'car', 'bird', 'cat',\n",
    "           'deer', 'dog', 'frog', 'horse', 'ship', 'truck')"
   ]
  },
  {
   "cell_type": "code",
   "execution_count": 4,
   "metadata": {},
   "outputs": [],
   "source": [
    "weight_quant = MinMSE_convolution_weight_quantization\n",
    "\n",
    "class Net(nn.Module):\n",
    "    def __init__(self):\n",
    "        super().__init__()\n",
    "        # Start and Stop modules convert the Float values to the fake quantized domain\n",
    "        # and during inference to the integer domain expressed by a float (necessary due to NVIDIA)\n",
    "        self.start = Start(bits=8,size=(1,3,1,1),mode=\"auto\",auto_runs=2)\n",
    "        # mode=\"auto\" simply measures min and max of the input and quantized to them in a symmetric manner \n",
    "        self.stop = Stop(size=(1,10))\n",
    "        \n",
    "        self.seq = Sequential(\n",
    "            ConvBnA(  3, 64,3,1,1,activation=PACT,weight_quant=weight_quant),\n",
    "            ConvBnA( 64, 64,3,1,1,activation=PACT,weight_quant=weight_quant),\n",
    "            MaxPool2d(2,2),\n",
    "            Dropout(0.1),\n",
    "            ConvBnA( 64,128,3,1,1,activation=PACT,weight_quant=weight_quant),\n",
    "            ConvBnA(128,128,3,1,1,activation=PACT,weight_quant=weight_quant),\n",
    "            MaxPool2d(2,2),\n",
    "            Dropout(0.1),\n",
    "            ConvBnA(128,256,3,1,1,activation=PACT,weight_quant=weight_quant),\n",
    "            ConvBnA(256,256,3,1,1,activation=PACT,weight_quant=weight_quant),\n",
    "            Dropout(0.1),\n",
    "            MaxPool2d(2,2),\n",
    "            FlattenM(1),\n",
    "            LinBnA(256*4*4,10,weight_quant=MinMSE_linear_weight_quantization,weight_quant_channel_wise=True,activation=LinQuantExpScale,affine=False),\n",
    "        )\n",
    "\n",
    "    def forward(self, x):\n",
    "        x = self.start(x)\n",
    "        x = self.seq(x)\n",
    "        x = self.stop(x)\n",
    "        return x"
   ]
  },
  {
   "cell_type": "markdown",
   "metadata": {},
   "source": [
    "This example copies a lot from [a pytorch tutorial](https://pytorch.org/tutorials/beginner/blitz/cifar10_tutorial.html)\n"
   ]
  },
  {
   "cell_type": "code",
   "execution_count": 5,
   "metadata": {},
   "outputs": [],
   "source": [
    "def eval(net, pr=True):\n",
    "    global testloader,device\n",
    "    global best\n",
    "    correct = 0\n",
    "    total = 0\n",
    "    # since we're not training, we don't need to calculate the gradients for our outputs\n",
    "    net.eval()\n",
    "    with torch.no_grad():\n",
    "        for data in testloader:\n",
    "            images, labels = data\n",
    "            images = images.to(device,non_blocking=True)\n",
    "            labels = labels.to(device,non_blocking=True)\n",
    "            # calculate outputs by running images through the network\n",
    "            outputs = net(images)\n",
    "            # loss = criterion(outputs, target)\n",
    "\n",
    "            # the class with the highest energy is what we choose as prediction\n",
    "            _, predicted = torch.max(outputs.data, 1)\n",
    "            total += labels.size(0)\n",
    "            correct += (predicted == labels).sum().item()\n",
    "    net.train()\n",
    "    if pr:\n",
    "        print(f'Accuracy of the network on the 10000 test images: {100 * correct / total:4.1f} %')\n",
    "    if best < 100 * correct / total:\n",
    "        best = 100 * correct / total\n",
    "\n",
    "    return 100 * correct / total, best\n"
   ]
  },
  {
   "cell_type": "code",
   "execution_count": 6,
   "metadata": {},
   "outputs": [],
   "source": [
    "net = Net()\n",
    "device = torch.device('cuda' if torch.cuda.is_available() else 'cpu')\n",
    "net = net.to(device)\n",
    "\n",
    "\n",
    "criterion = nn.CrossEntropyLoss(label_smoothing=0.1)\n",
    "optimizer = optim.SGD(net.parameters(), lr=0.1, momentum=0.9,weight_decay=5e-4)\n",
    "sched= optim.lr_scheduler.CosineAnnealingLR(optimizer,epochs,1e-5,verbose=False)\n",
    "\n",
    "best = 0"
   ]
  },
  {
   "cell_type": "code",
   "execution_count": 7,
   "metadata": {},
   "outputs": [
    {
     "name": "stderr",
     "output_type": "stream",
     "text": [
      "100%|██████████| 625/625 [00:19<00:00, 32.50it/s, loss=1.53, acc=0.55] \n"
     ]
    },
    {
     "name": "stdout",
     "output_type": "stream",
     "text": [
      "reduce autorun by 1: 1 min/max -1.6666666269302368 / 1.6666666269302368\n",
      "[  1,   625] loss: 122.563,Train Acc: 44.0, Test Acc:64.4%, Best test Acc:64.4%\n"
     ]
    },
    {
     "name": "stderr",
     "output_type": "stream",
     "text": [
      "100%|██████████| 625/625 [00:17<00:00, 36.26it/s, loss=1.23, acc=0.722]\n"
     ]
    },
    {
     "name": "stdout",
     "output_type": "stream",
     "text": [
      "reduce autorun by 1: 0 min/max -1.6666666269302368 / 1.6666666269302368\n",
      "[  2,   625] loss: 98.073,Train Acc: 57.8, Test Acc:72.1%, Best test Acc:72.1%\n"
     ]
    },
    {
     "name": "stderr",
     "output_type": "stream",
     "text": [
      "100%|██████████| 625/625 [00:17<00:00, 36.42it/s, loss=1.12, acc=0.777]\n"
     ]
    },
    {
     "name": "stdout",
     "output_type": "stream",
     "text": [
      "[  3,   625] loss: 89.292,Train Acc: 62.1, Test Acc:77.7%, Best test Acc:77.7%\n"
     ]
    },
    {
     "name": "stderr",
     "output_type": "stream",
     "text": [
      "100%|██████████| 625/625 [00:16<00:00, 36.78it/s, loss=1.06, acc=0.806]\n"
     ]
    },
    {
     "name": "stdout",
     "output_type": "stream",
     "text": [
      "[  4,   625] loss: 84.867,Train Acc: 64.5, Test Acc:74.8%, Best test Acc:77.7%\n"
     ]
    },
    {
     "name": "stderr",
     "output_type": "stream",
     "text": [
      "100%|██████████| 625/625 [00:16<00:00, 37.14it/s, loss=1.03, acc=0.819]\n"
     ]
    },
    {
     "name": "stdout",
     "output_type": "stream",
     "text": [
      "[  5,   625] loss: 82.503,Train Acc: 65.5, Test Acc:78.5%, Best test Acc:78.5%\n"
     ]
    },
    {
     "name": "stderr",
     "output_type": "stream",
     "text": [
      "100%|██████████| 625/625 [00:17<00:00, 36.60it/s, loss=1.01, acc=0.825] \n"
     ]
    },
    {
     "name": "stdout",
     "output_type": "stream",
     "text": [
      "[  6,   625] loss: 81.133,Train Acc: 66.0, Test Acc:78.3%, Best test Acc:78.5%\n"
     ]
    },
    {
     "name": "stderr",
     "output_type": "stream",
     "text": [
      "100%|██████████| 625/625 [00:16<00:00, 37.59it/s, loss=1, acc=0.832]    \n"
     ]
    },
    {
     "name": "stdout",
     "output_type": "stream",
     "text": [
      "[  7,   625] loss: 80.032,Train Acc: 66.6, Test Acc:78.0%, Best test Acc:78.5%\n"
     ]
    },
    {
     "name": "stderr",
     "output_type": "stream",
     "text": [
      "100%|██████████| 625/625 [00:16<00:00, 36.86it/s, loss=1, acc=0.83]     \n"
     ]
    },
    {
     "name": "stdout",
     "output_type": "stream",
     "text": [
      "[  8,   625] loss: 79.968,Train Acc: 66.4, Test Acc:78.3%, Best test Acc:78.5%\n"
     ]
    },
    {
     "name": "stderr",
     "output_type": "stream",
     "text": [
      "100%|██████████| 625/625 [00:16<00:00, 37.23it/s, loss=1, acc=0.827]    \n"
     ]
    },
    {
     "name": "stdout",
     "output_type": "stream",
     "text": [
      "[  9,   625] loss: 80.236,Train Acc: 66.2, Test Acc:73.4%, Best test Acc:78.5%\n"
     ]
    },
    {
     "name": "stderr",
     "output_type": "stream",
     "text": [
      "100%|██████████| 625/625 [00:16<00:00, 37.52it/s, loss=1.02, acc=0.819] \n"
     ]
    },
    {
     "name": "stdout",
     "output_type": "stream",
     "text": [
      "[ 10,   625] loss: 81.474,Train Acc: 65.5, Test Acc:78.5%, Best test Acc:78.5%\n"
     ]
    },
    {
     "name": "stderr",
     "output_type": "stream",
     "text": [
      "100%|██████████| 625/625 [00:16<00:00, 37.24it/s, loss=1.04, acc=0.809]\n"
     ]
    },
    {
     "name": "stdout",
     "output_type": "stream",
     "text": [
      "[ 11,   625] loss: 83.134,Train Acc: 64.8, Test Acc:71.8%, Best test Acc:78.5%\n"
     ]
    },
    {
     "name": "stderr",
     "output_type": "stream",
     "text": [
      "100%|██████████| 625/625 [00:16<00:00, 37.42it/s, loss=1.05, acc=0.804]\n"
     ]
    },
    {
     "name": "stdout",
     "output_type": "stream",
     "text": [
      "[ 12,   625] loss: 83.918,Train Acc: 64.3, Test Acc:75.3%, Best test Acc:78.5%\n"
     ]
    },
    {
     "name": "stderr",
     "output_type": "stream",
     "text": [
      "100%|██████████| 625/625 [00:16<00:00, 37.06it/s, loss=1.05, acc=0.8]  \n"
     ]
    },
    {
     "name": "stdout",
     "output_type": "stream",
     "text": [
      "[ 13,   625] loss: 84.247,Train Acc: 64.0, Test Acc:76.3%, Best test Acc:78.5%\n"
     ]
    },
    {
     "name": "stderr",
     "output_type": "stream",
     "text": [
      "100%|██████████| 625/625 [00:16<00:00, 36.98it/s, loss=1.05, acc=0.802]\n"
     ]
    },
    {
     "name": "stdout",
     "output_type": "stream",
     "text": [
      "[ 14,   625] loss: 83.750,Train Acc: 64.1, Test Acc:73.7%, Best test Acc:78.5%\n"
     ]
    },
    {
     "name": "stderr",
     "output_type": "stream",
     "text": [
      "100%|██████████| 625/625 [00:16<00:00, 37.33it/s, loss=1.05, acc=0.803]\n"
     ]
    },
    {
     "name": "stdout",
     "output_type": "stream",
     "text": [
      "[ 15,   625] loss: 83.637,Train Acc: 64.2, Test Acc:76.8%, Best test Acc:78.5%\n"
     ]
    },
    {
     "name": "stderr",
     "output_type": "stream",
     "text": [
      "100%|██████████| 625/625 [00:16<00:00, 37.06it/s, loss=1.04, acc=0.807]\n"
     ]
    },
    {
     "name": "stdout",
     "output_type": "stream",
     "text": [
      "[ 16,   625] loss: 83.261,Train Acc: 64.5, Test Acc:76.8%, Best test Acc:78.5%\n"
     ]
    },
    {
     "name": "stderr",
     "output_type": "stream",
     "text": [
      "100%|██████████| 625/625 [00:16<00:00, 37.34it/s, loss=1.03, acc=0.808]\n"
     ]
    },
    {
     "name": "stdout",
     "output_type": "stream",
     "text": [
      "[ 17,   625] loss: 82.679,Train Acc: 64.6, Test Acc:79.2%, Best test Acc:79.2%\n"
     ]
    },
    {
     "name": "stderr",
     "output_type": "stream",
     "text": [
      "100%|██████████| 625/625 [00:16<00:00, 38.19it/s, loss=1.03, acc=0.812]\n"
     ]
    },
    {
     "name": "stdout",
     "output_type": "stream",
     "text": [
      "[ 18,   625] loss: 82.236,Train Acc: 65.0, Test Acc:76.4%, Best test Acc:79.2%\n"
     ]
    },
    {
     "name": "stderr",
     "output_type": "stream",
     "text": [
      "100%|██████████| 625/625 [00:14<00:00, 42.09it/s, loss=1.02, acc=0.813]\n"
     ]
    },
    {
     "name": "stdout",
     "output_type": "stream",
     "text": [
      "[ 19,   625] loss: 81.836,Train Acc: 65.1, Test Acc:78.0%, Best test Acc:79.2%\n"
     ]
    },
    {
     "name": "stderr",
     "output_type": "stream",
     "text": [
      "100%|██████████| 625/625 [00:14<00:00, 42.21it/s, loss=1.02, acc=0.817]\n"
     ]
    },
    {
     "name": "stdout",
     "output_type": "stream",
     "text": [
      "[ 20,   625] loss: 81.225,Train Acc: 65.4, Test Acc:78.9%, Best test Acc:79.2%\n"
     ]
    },
    {
     "name": "stderr",
     "output_type": "stream",
     "text": [
      "100%|██████████| 625/625 [00:14<00:00, 42.25it/s, loss=1.01, acc=0.822] \n"
     ]
    },
    {
     "name": "stdout",
     "output_type": "stream",
     "text": [
      "[ 21,   625] loss: 80.581,Train Acc: 65.7, Test Acc:81.5%, Best test Acc:81.5%\n"
     ]
    },
    {
     "name": "stderr",
     "output_type": "stream",
     "text": [
      "100%|██████████| 625/625 [00:14<00:00, 42.03it/s, loss=0.995, acc=0.827]\n"
     ]
    },
    {
     "name": "stdout",
     "output_type": "stream",
     "text": [
      "[ 22,   625] loss: 79.638,Train Acc: 66.1, Test Acc:78.4%, Best test Acc:81.5%\n"
     ]
    },
    {
     "name": "stderr",
     "output_type": "stream",
     "text": [
      "100%|██████████| 625/625 [00:14<00:00, 42.23it/s, loss=0.987, acc=0.83] \n"
     ]
    },
    {
     "name": "stdout",
     "output_type": "stream",
     "text": [
      "[ 23,   625] loss: 78.973,Train Acc: 66.4, Test Acc:77.8%, Best test Acc:81.5%\n"
     ]
    },
    {
     "name": "stderr",
     "output_type": "stream",
     "text": [
      "100%|██████████| 625/625 [00:14<00:00, 42.17it/s, loss=0.984, acc=0.831]\n"
     ]
    },
    {
     "name": "stdout",
     "output_type": "stream",
     "text": [
      "[ 24,   625] loss: 78.759,Train Acc: 66.5, Test Acc:78.8%, Best test Acc:81.5%\n"
     ]
    },
    {
     "name": "stderr",
     "output_type": "stream",
     "text": [
      "100%|██████████| 625/625 [00:14<00:00, 42.16it/s, loss=0.976, acc=0.835]\n"
     ]
    },
    {
     "name": "stdout",
     "output_type": "stream",
     "text": [
      "[ 25,   625] loss: 78.044,Train Acc: 66.8, Test Acc:78.2%, Best test Acc:81.5%\n"
     ]
    },
    {
     "name": "stderr",
     "output_type": "stream",
     "text": [
      "100%|██████████| 625/625 [00:14<00:00, 42.08it/s, loss=0.965, acc=0.84] \n"
     ]
    },
    {
     "name": "stdout",
     "output_type": "stream",
     "text": [
      "[ 26,   625] loss: 77.219,Train Acc: 67.2, Test Acc:80.6%, Best test Acc:81.5%\n"
     ]
    },
    {
     "name": "stderr",
     "output_type": "stream",
     "text": [
      "100%|██████████| 625/625 [00:14<00:00, 41.92it/s, loss=0.954, acc=0.847]\n"
     ]
    },
    {
     "name": "stdout",
     "output_type": "stream",
     "text": [
      "[ 27,   625] loss: 76.293,Train Acc: 67.8, Test Acc:82.1%, Best test Acc:82.1%\n"
     ]
    },
    {
     "name": "stderr",
     "output_type": "stream",
     "text": [
      "100%|██████████| 625/625 [00:14<00:00, 42.10it/s, loss=0.946, acc=0.848]\n"
     ]
    },
    {
     "name": "stdout",
     "output_type": "stream",
     "text": [
      "[ 28,   625] loss: 75.691,Train Acc: 67.9, Test Acc:82.1%, Best test Acc:82.1%\n"
     ]
    },
    {
     "name": "stderr",
     "output_type": "stream",
     "text": [
      "100%|██████████| 625/625 [00:14<00:00, 42.10it/s, loss=0.937, acc=0.854]\n"
     ]
    },
    {
     "name": "stdout",
     "output_type": "stream",
     "text": [
      "[ 29,   625] loss: 74.989,Train Acc: 68.3, Test Acc:82.7%, Best test Acc:82.7%\n"
     ]
    },
    {
     "name": "stderr",
     "output_type": "stream",
     "text": [
      "100%|██████████| 625/625 [00:14<00:00, 41.86it/s, loss=0.926, acc=0.86] \n"
     ]
    },
    {
     "name": "stdout",
     "output_type": "stream",
     "text": [
      "[ 30,   625] loss: 74.094,Train Acc: 68.8, Test Acc:82.1%, Best test Acc:82.7%\n"
     ]
    },
    {
     "name": "stderr",
     "output_type": "stream",
     "text": [
      "100%|██████████| 625/625 [00:14<00:00, 41.93it/s, loss=0.916, acc=0.864]\n"
     ]
    },
    {
     "name": "stdout",
     "output_type": "stream",
     "text": [
      "[ 31,   625] loss: 73.319,Train Acc: 69.1, Test Acc:83.5%, Best test Acc:83.5%\n"
     ]
    },
    {
     "name": "stderr",
     "output_type": "stream",
     "text": [
      "100%|██████████| 625/625 [00:14<00:00, 42.03it/s, loss=0.905, acc=0.869]\n"
     ]
    },
    {
     "name": "stdout",
     "output_type": "stream",
     "text": [
      "[ 32,   625] loss: 72.429,Train Acc: 69.5, Test Acc:82.5%, Best test Acc:83.5%\n"
     ]
    },
    {
     "name": "stderr",
     "output_type": "stream",
     "text": [
      "100%|██████████| 625/625 [00:14<00:00, 42.09it/s, loss=0.892, acc=0.875]\n"
     ]
    },
    {
     "name": "stdout",
     "output_type": "stream",
     "text": [
      "[ 33,   625] loss: 71.341,Train Acc: 70.0, Test Acc:82.7%, Best test Acc:83.5%\n"
     ]
    },
    {
     "name": "stderr",
     "output_type": "stream",
     "text": [
      "100%|██████████| 625/625 [00:14<00:00, 42.08it/s, loss=0.883, acc=0.881]\n"
     ]
    },
    {
     "name": "stdout",
     "output_type": "stream",
     "text": [
      "[ 34,   625] loss: 70.635,Train Acc: 70.5, Test Acc:86.1%, Best test Acc:86.1%\n"
     ]
    },
    {
     "name": "stderr",
     "output_type": "stream",
     "text": [
      "100%|██████████| 625/625 [00:14<00:00, 41.96it/s, loss=0.869, acc=0.888]\n"
     ]
    },
    {
     "name": "stdout",
     "output_type": "stream",
     "text": [
      "[ 35,   625] loss: 69.513,Train Acc: 71.0, Test Acc:82.8%, Best test Acc:86.1%\n"
     ]
    },
    {
     "name": "stderr",
     "output_type": "stream",
     "text": [
      "100%|██████████| 625/625 [00:14<00:00, 41.97it/s, loss=0.854, acc=0.892]\n"
     ]
    },
    {
     "name": "stdout",
     "output_type": "stream",
     "text": [
      "[ 36,   625] loss: 68.345,Train Acc: 71.4, Test Acc:86.2%, Best test Acc:86.2%\n"
     ]
    },
    {
     "name": "stderr",
     "output_type": "stream",
     "text": [
      "100%|██████████| 625/625 [00:14<00:00, 42.15it/s, loss=0.84, acc=0.902] \n"
     ]
    },
    {
     "name": "stdout",
     "output_type": "stream",
     "text": [
      "[ 37,   625] loss: 67.169,Train Acc: 72.2, Test Acc:87.1%, Best test Acc:87.1%\n"
     ]
    },
    {
     "name": "stderr",
     "output_type": "stream",
     "text": [
      "100%|██████████| 625/625 [00:14<00:00, 42.06it/s, loss=0.826, acc=0.909]\n"
     ]
    },
    {
     "name": "stdout",
     "output_type": "stream",
     "text": [
      "[ 38,   625] loss: 66.070,Train Acc: 72.7, Test Acc:87.9%, Best test Acc:87.9%\n"
     ]
    },
    {
     "name": "stderr",
     "output_type": "stream",
     "text": [
      "100%|██████████| 625/625 [00:14<00:00, 42.05it/s, loss=0.814, acc=0.914]\n"
     ]
    },
    {
     "name": "stdout",
     "output_type": "stream",
     "text": [
      "[ 39,   625] loss: 65.138,Train Acc: 73.2, Test Acc:88.2%, Best test Acc:88.2%\n"
     ]
    },
    {
     "name": "stderr",
     "output_type": "stream",
     "text": [
      "100%|██████████| 625/625 [00:14<00:00, 42.05it/s, loss=0.798, acc=0.923]\n"
     ]
    },
    {
     "name": "stdout",
     "output_type": "stream",
     "text": [
      "[ 40,   625] loss: 63.847,Train Acc: 73.8, Test Acc:86.8%, Best test Acc:88.2%\n"
     ]
    },
    {
     "name": "stderr",
     "output_type": "stream",
     "text": [
      "100%|██████████| 625/625 [00:14<00:00, 42.11it/s, loss=0.785, acc=0.929]\n"
     ]
    },
    {
     "name": "stdout",
     "output_type": "stream",
     "text": [
      "[ 41,   625] loss: 62.809,Train Acc: 74.4, Test Acc:88.6%, Best test Acc:88.6%\n"
     ]
    },
    {
     "name": "stderr",
     "output_type": "stream",
     "text": [
      "100%|██████████| 625/625 [00:14<00:00, 42.08it/s, loss=0.772, acc=0.939]\n"
     ]
    },
    {
     "name": "stdout",
     "output_type": "stream",
     "text": [
      "[ 42,   625] loss: 61.733,Train Acc: 75.1, Test Acc:89.1%, Best test Acc:89.1%\n"
     ]
    },
    {
     "name": "stderr",
     "output_type": "stream",
     "text": [
      "100%|██████████| 625/625 [00:14<00:00, 42.22it/s, loss=0.758, acc=0.945]\n"
     ]
    },
    {
     "name": "stdout",
     "output_type": "stream",
     "text": [
      "[ 43,   625] loss: 60.622,Train Acc: 75.6, Test Acc:89.7%, Best test Acc:89.7%\n"
     ]
    },
    {
     "name": "stderr",
     "output_type": "stream",
     "text": [
      "100%|██████████| 625/625 [00:14<00:00, 42.02it/s, loss=0.744, acc=0.951]\n"
     ]
    },
    {
     "name": "stdout",
     "output_type": "stream",
     "text": [
      "[ 44,   625] loss: 59.522,Train Acc: 76.1, Test Acc:89.7%, Best test Acc:89.7%\n"
     ]
    },
    {
     "name": "stderr",
     "output_type": "stream",
     "text": [
      "100%|██████████| 625/625 [00:14<00:00, 42.07it/s, loss=0.734, acc=0.957]\n"
     ]
    },
    {
     "name": "stdout",
     "output_type": "stream",
     "text": [
      "[ 45,   625] loss: 58.698,Train Acc: 76.6, Test Acc:90.2%, Best test Acc:90.2%\n"
     ]
    },
    {
     "name": "stderr",
     "output_type": "stream",
     "text": [
      "100%|██████████| 625/625 [00:14<00:00, 42.06it/s, loss=0.727, acc=0.961]\n"
     ]
    },
    {
     "name": "stdout",
     "output_type": "stream",
     "text": [
      "[ 46,   625] loss: 58.156,Train Acc: 76.9, Test Acc:90.4%, Best test Acc:90.4%\n"
     ]
    },
    {
     "name": "stderr",
     "output_type": "stream",
     "text": [
      "100%|██████████| 625/625 [00:14<00:00, 41.96it/s, loss=0.72, acc=0.965] \n"
     ]
    },
    {
     "name": "stdout",
     "output_type": "stream",
     "text": [
      "[ 47,   625] loss: 57.619,Train Acc: 77.2, Test Acc:90.4%, Best test Acc:90.4%\n"
     ]
    },
    {
     "name": "stderr",
     "output_type": "stream",
     "text": [
      "100%|██████████| 625/625 [00:14<00:00, 41.74it/s, loss=0.715, acc=0.967]\n"
     ]
    },
    {
     "name": "stdout",
     "output_type": "stream",
     "text": [
      "[ 48,   625] loss: 57.201,Train Acc: 77.4, Test Acc:90.6%, Best test Acc:90.6%\n"
     ]
    },
    {
     "name": "stderr",
     "output_type": "stream",
     "text": [
      "100%|██████████| 625/625 [00:14<00:00, 42.03it/s, loss=0.71, acc=0.969] \n"
     ]
    },
    {
     "name": "stdout",
     "output_type": "stream",
     "text": [
      "[ 49,   625] loss: 56.834,Train Acc: 77.5, Test Acc:90.7%, Best test Acc:90.7%\n"
     ]
    },
    {
     "name": "stderr",
     "output_type": "stream",
     "text": [
      "100%|██████████| 625/625 [00:14<00:00, 41.97it/s, loss=0.71, acc=0.971] \n"
     ]
    },
    {
     "name": "stdout",
     "output_type": "stream",
     "text": [
      "[ 50,   625] loss: 56.784,Train Acc: 77.6, Test Acc:90.7%, Best test Acc:90.7%\n",
      "Finished Training\n"
     ]
    }
   ],
   "source": [
    "for epoch in range(epochs):  # loop over the dataset multiple times\n",
    "\n",
    "    running_loss = 0.0\n",
    "    training_running_correct = 0\n",
    "    with tqdm(enumerate(trainloader, 0),total=len(trainloader),disable=False) as t:\n",
    "        for i, (data,target) in t:\n",
    "            # get the inputs; data is a list of [inputs, labels]\n",
    "            target = target.to(device,non_blocking=True)\n",
    "            data = data.to(device,non_blocking=True)\n",
    "\n",
    "            # zero the parameter gradients\n",
    "            optimizer.zero_grad(True)\n",
    "\n",
    "            # forward + backward + optimize\n",
    "            outputs = net(data)\n",
    "            loss = criterion(outputs, target)\n",
    "            loss.backward()\n",
    "            optimizer.step()\n",
    "\n",
    "\n",
    "            # print statistics\n",
    "            running_loss += loss.item()\n",
    "\n",
    "            _, preds = torch.sort(outputs.data.clone().detach(), 1,descending=True)\n",
    "            training_running_correct += (preds[:,0].view(-1,1) == target.view(-1,1)).any(dim=1).sum().detach().item()\n",
    "            t.set_postfix({'loss': running_loss/(i+1),'acc':training_running_correct/((i+1)*batch_size)})\n",
    "    ev = eval(net,pr=False)\n",
    "    print(f'[{epoch + 1:3d}, {i + 1:5d}] loss: {running_loss*batch_size/len(trainloader):6.3f},Train Acc: {training_running_correct/len(trainloader):3.1f}, Test Acc:{ev[0]:3.1f}%, Best test Acc:{ev[1]:3.1f}%')\n",
    "    running_loss = 0.0\n",
    "    torch.save(net.state_dict(),f\"./runs/{path}/ckp.pt\")\n",
    "    sched.step()\n",
    "            \n",
    "print('Finished Training')\n"
   ]
  }
 ],
 "metadata": {
  "kernelspec": {
   "display_name": ".env",
   "language": "python",
   "name": "python3"
  },
  "language_info": {
   "codemirror_mode": {
    "name": "ipython",
    "version": 3
   },
   "file_extension": ".py",
   "mimetype": "text/x-python",
   "name": "python",
   "nbconvert_exporter": "python",
   "pygments_lexer": "ipython3",
   "version": "3.11.0rc2"
  },
  "orig_nbformat": 4
 },
 "nbformat": 4,
 "nbformat_minor": 2
}
