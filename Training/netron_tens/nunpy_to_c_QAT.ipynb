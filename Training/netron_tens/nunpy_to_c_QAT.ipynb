{
 "cells": [
  {
   "cell_type": "code",
   "execution_count": 32,
   "metadata": {},
   "outputs": [],
   "source": [
    "import numpy as np\n",
    "import torch\n",
    "\n",
    "import sys\n",
    "\n",
    "sys.path.append('../training/')\n",
    "sys.path.append('../models/')\n"
   ]
  },
  {
   "cell_type": "code",
   "execution_count": 33,
   "metadata": {},
   "outputs": [],
   "source": [
    "model = torch.load('../saved_models/Gatech_simple_VFb1_epoch_709.pkl',map_location='cpu')\n"
   ]
  },
  {
   "cell_type": "code",
   "execution_count": 34,
   "metadata": {},
   "outputs": [],
   "source": [
    "sub = np.array([-8.728156899451278e-7])\n",
    "div = np.sqrt(0.021395351737737656 + 1e-5)\n",
    "mul = np.array([3.715294599533081])\n",
    "add = np.array([0.1172400712966919])\n",
    "\n",
    "insg_add = -sub/div*mul+add\n",
    "insg_mul = mul/div"
   ]
  },
  {
   "cell_type": "code",
   "execution_count": 35,
   "metadata": {},
   "outputs": [
    {
     "name": "stdout",
     "output_type": "stream",
     "text": [
      "[0.11726224] [25.39405594]\n"
     ]
    }
   ],
   "source": [
    "print(insg_add,insg_mul)\n"
   ]
  },
  {
   "cell_type": "code",
   "execution_count": 36,
   "metadata": {},
   "outputs": [],
   "source": [
    "Layer1 = [model.conv.weight.detach().numpy(), model.conv.bias.detach().numpy()]\n",
    "# print(Layer1)"
   ]
  },
  {
   "cell_type": "code",
   "execution_count": 37,
   "metadata": {},
   "outputs": [
    {
     "name": "stdout",
     "output_type": "stream",
     "text": [
      "(3, 1, 85)\n",
      "(3,)\n",
      "[-0.05501764  0.14627229 -0.2395012   0.23322591 -0.07594037]\n",
      "[-0.27059504  0.00615436 -0.00738623]\n",
      "(3, 1, 85) (3,)\n",
      "[-1.397121    3.71444663 -6.0819067   5.92255185 -1.92843402]\n",
      "[-0.64979663 -0.01348934 -0.01429403]\n"
     ]
    }
   ],
   "source": [
    "conv_weight = Layer1[0]\n",
    "conv_bias = Layer1[1]\n",
    "\n",
    "print(conv_weight.shape)\n",
    "print(conv_bias.shape)\n",
    "\n",
    "print(conv_weight[0,0,:5])\n",
    "print(conv_bias)\n",
    "\n",
    "\n",
    "conv_bias = conv_bias + np.sum(np.sum(insg_add.reshape(1,1,-1)*conv_weight,axis=2),axis=1)\n",
    "conv_weight = conv_weight*insg_mul\n",
    "\n",
    "print(conv_weight.shape,conv_bias.shape)\n",
    "print(conv_weight[0,0,:5])\n",
    "print(conv_bias)"
   ]
  },
  {
   "cell_type": "code",
   "execution_count": 38,
   "metadata": {},
   "outputs": [
    {
     "name": "stdout",
     "output_type": "stream",
     "text": [
      "(1, 3, 1)\n",
      "[[[0.0003278 ]\n",
      "  [0.0033114 ]\n",
      "  [0.00452419]]]\n",
      "(3, 1, 85) (3,)\n",
      "[ -4262.11002491  11331.43100469 -18553.69397564  18067.56007585\n",
      "  -5882.953555  ]\n",
      "[-1982.29410796    -4.07360858    -3.15946597]\n"
     ]
    }
   ],
   "source": [
    "Layer_start = model.start.delta_in.detach().numpy()\n",
    "\n",
    "print(Layer_start.shape)\n",
    "print(Layer_start)\n",
    "conv_bias_f = conv_bias/Layer_start.reshape(-1)\n",
    "conv_weight_f = conv_weight/Layer_start.reshape(-1,1,1)\n",
    "\n",
    "print(conv_weight_f.shape,conv_bias_f.shape)\n",
    "print(conv_weight_f[0,0,:5])\n",
    "print(conv_bias_f)"
   ]
  },
  {
   "cell_type": "code",
   "execution_count": 39,
   "metadata": {},
   "outputs": [
    {
     "name": "stdout",
     "output_type": "stream",
     "text": [
      "(20, 111) (20,) (20,)\n"
     ]
    }
   ],
   "source": [
    "Layer2 = [model.Tlayers[1].quant_weight.detach().numpy(),model.Tlayers[1].down_scaler.integer_bias.detach().reshape(-1).numpy(),model.Tlayers[1].down_scaler.right_shift.detach().reshape(-1).numpy()]\n",
    "\n",
    "fc2_weights = Layer2[0]\n",
    "fc2_bias = Layer2[1]\n",
    "fc2_right_shift = -Layer2[2]\n",
    "\n",
    "print(fc2_weights.shape, fc2_bias.shape,fc2_right_shift.shape)"
   ]
  },
  {
   "cell_type": "code",
   "execution_count": 40,
   "metadata": {},
   "outputs": [
    {
     "name": "stdout",
     "output_type": "stream",
     "text": [
      "[2. 2. 2. 2. 1.]\n",
      "[7108. 4746. 4776. 4387. 3945.]\n",
      "[5. 5. 5. 4. 5.]\n"
     ]
    }
   ],
   "source": [
    "print(fc2_weights.reshape(-1)[:5])\n",
    "print(fc2_bias.reshape(-1)[:5])\n",
    "print(fc2_right_shift.reshape(-1)[:5])"
   ]
  },
  {
   "cell_type": "code",
   "execution_count": 41,
   "metadata": {},
   "outputs": [],
   "source": [
    "fc2_weights_m = np.zeros_like(fc2_weights)\n",
    "M2 = 111\n",
    "for i in range(20):\n",
    "    for j in range(M2//3):\n",
    "        for t in range(3):\n",
    "            fc2_weights_m[i][j*3+t]=fc2_weights[i][j + t *(M2 // 3)]\n",
    "\n",
    "fc2_weights = fc2_weights_m\n",
    "\n",
    "fc2_weights_temp = np.zeros((fc2_weights.shape[0],fc2_weights.shape[1]+1))\n",
    "\n",
    "for i in range(0,20):\n",
    "    for j in range(0,111,4):\n",
    "        fc2_weights_temp[i,j] = fc2_weights[i,j]\n",
    "        fc2_weights_temp[i,j+1] = fc2_weights[i,j+2]\n",
    "        fc2_weights_temp[i,j+2] = fc2_weights[i,j+1]\n",
    "        if j < 108:\n",
    "            fc2_weights_temp[i,j+3] = fc2_weights[i,j+3]\n",
    "\n",
    "fc2_weights = fc2_weights_temp"
   ]
  },
  {
   "cell_type": "code",
   "execution_count": null,
   "metadata": {},
   "outputs": [],
   "source": []
  },
  {
   "cell_type": "code",
   "execution_count": 42,
   "metadata": {},
   "outputs": [
    {
     "name": "stdout",
     "output_type": "stream",
     "text": [
      "(2, 20) (2,) (2,)\n"
     ]
    }
   ],
   "source": [
    "Layer3 = [model.Tlayers[2].quant_weight.detach().numpy(),model.Tlayers[2].down_scaler.integer_bias.detach().reshape(-1).numpy(),model.Tlayers[2].down_scaler.right_shift.detach().reshape(-1).numpy()]\n",
    "\n",
    "fc3_weights = Layer3[0]\n",
    "fc3_bias = Layer3[1]\n",
    "fc3_right_shift = -Layer3[2]\n",
    "\n",
    "print(fc3_weights.shape, fc3_bias.shape,fc3_right_shift.shape)"
   ]
  },
  {
   "cell_type": "code",
   "execution_count": 43,
   "metadata": {},
   "outputs": [],
   "source": [
    "fc3_weights_temp = np.zeros((fc3_weights.shape[0],fc3_weights.shape[1]+1))\n",
    "\n",
    "for i in range(0,2):\n",
    "    for j in range(0,20,4):\n",
    "        fc3_weights_temp[i,j] = fc3_weights[i,j]\n",
    "        fc3_weights_temp[i,j+1] = fc3_weights[i,j+2]\n",
    "        fc3_weights_temp[i,j+2] = fc3_weights[i,j+1]\n",
    "        fc3_weights_temp[i,j+3] = fc3_weights[i,j+3]\n",
    "\n",
    "fc3_weights = fc3_weights_temp"
   ]
  },
  {
   "cell_type": "code",
   "execution_count": 44,
   "metadata": {},
   "outputs": [
    {
     "name": "stdout",
     "output_type": "stream",
     "text": [
      "[-3. 25. 15.  5.  2.]\n",
      "[-43318.  26092.]\n",
      "[6. 6.]\n"
     ]
    }
   ],
   "source": [
    "print(fc3_weights.reshape(-1)[:5])\n",
    "print(fc3_bias.reshape(-1)[:5])\n",
    "print(fc3_right_shift.reshape(-1)[:5])"
   ]
  },
  {
   "cell_type": "code",
   "execution_count": 45,
   "metadata": {},
   "outputs": [
    {
     "name": "stdout",
     "output_type": "stream",
     "text": [
      "[0.0003096 0.000514 ]\n"
     ]
    }
   ],
   "source": [
    "Layer_stop = [model.stop.exp.detach().numpy().reshape(-1)]\n",
    "float_conversion = 2**Layer_stop[0]\n",
    "\n",
    "print(float_conversion)"
   ]
  },
  {
   "cell_type": "code",
   "execution_count": 46,
   "metadata": {},
   "outputs": [],
   "source": [
    "file = \"./weights_Quant.hpp\"\n"
   ]
  },
  {
   "cell_type": "code",
   "execution_count": 47,
   "metadata": {},
   "outputs": [],
   "source": [
    "with open(file,mode='w+') as f:\n",
    "    f.write('''#include \"network_templates.hpp\" \n",
    "#include <cmath>\n",
    "\n",
    "const auto conv_ACT = [](const float &val) -> int16_t { \n",
    "    int32_t x=(int32_t)fabsf(val);\n",
    "    int32_t b = (32767 - x); \n",
    "    int32_t d = (b >> 31);\n",
    "    return static_cast<int16_t>((x & ~d) | (32767 & d)); \n",
    "};\n",
    "            \n",
    "const auto fc2_ACT = [](int32_t val, int8_t shift) -> int16_t { \n",
    "\tint32_t a{val>>shift};\n",
    "\ta = (a & (~(a>>31)));\n",
    "\tint32_t b = (32767 - a); \n",
    "\tint32_t d = (b >> 31);\n",
    "\treturn static_cast<int16_t>((a & ~d) | (32767 & d));\n",
    "};            \n",
    "            \n",
    "const auto fc3_ACT = [](int32_t val, int8_t shift) -> int32_t { return val>>shift; };\n",
    "\n",
    "// This is bad, like really bad, who in their right mind thinks passing a void pointer is a good idea?, and cast it to a SPECIFIC TYPE which DIFFERS between the two activation functions.              \n",
    "void fc2_ACT_garbage(int32_t val, int8_t shift, void* out){ \n",
    "\tint32_t a{val>>shift};\n",
    "\ta = (a & (~(a>>31)));\n",
    "\tint32_t b = (32767 - a); \n",
    "\tint32_t d = (b >> 31);\n",
    "\t*(int16_t*)out = static_cast<int16_t>((a & ~d) | (32767 & d));\n",
    "}       \n",
    "            \n",
    "void fc3_ACT_garbage(int32_t val, int8_t shift, void* out){ \n",
    "\t*(int32_t*)out = val>>shift; \n",
    "}\n",
    "\n",
    "'''\n",
    ")\n",
    "    \n",
    "    # CONV\n",
    "    f.write('const Matrix<85,3> Conv_weight{')\n",
    "    for i in range(85):\n",
    "        # f.write('{')\n",
    "        for q in range(3):\n",
    "            f.write(f'{conv_weight_f[q,0,i]}f ')\n",
    "            f.write(',')\n",
    "        # f.write('}')\n",
    "    f.write('};\\n')\n",
    "\n",
    "    f.write('const Matrix<3,1> Conv_bias{')\n",
    "    for q in range(3):\n",
    "        # f.write('{')\n",
    "        f.write(f'{conv_bias_f[q]}f ')\n",
    "        f.write(',')\n",
    "        # f.write('}')\n",
    "    f.write('};\\n\\n\\n')\n",
    "\n",
    "\n",
    "    # FC2\n",
    "    f.write('// gets optimized away anyway, but ist nice to have\\n')\n",
    "    f.write('const Matrix<20,112,int8_t> fc2_weight{')\n",
    "    for q in range(20):\n",
    "        # f.write('{')\n",
    "        for i in range(112):\n",
    "            f.write(f'{fc2_weights[q,i].astype(int)} ')\n",
    "            f.write(',')\n",
    "        # f.write('}')\n",
    "    f.write('};\\n')\n",
    "\n",
    "\n",
    "    f.write('const Matrix<20,1,int32_t> fc2_bias{')\n",
    "    for q in range(20):\n",
    "        # f.write('{')\n",
    "        f.write(f'{fc2_bias[q].astype(int)} ')\n",
    "        f.write(',')\n",
    "        # f.write('}')\n",
    "    f.write('};\\n')\n",
    "\n",
    "    f.write('const Matrix<20,1,int8_t> fc2_right_shift{')\n",
    "    for q in range(20):\n",
    "        # f.write('{')\n",
    "        f.write(f'{fc2_right_shift[q].astype(int)} ')\n",
    "        f.write(',')\n",
    "        # f.write('}')\n",
    "    f.write('};\\n\\n\\n')\n",
    "    \n",
    "    # FC3\n",
    "    f.write('const Matrix<2,20,int8_t> fc3_weight{')\n",
    "    for q in range(2):\n",
    "        # f.write('{')\n",
    "        for i in range(20):\n",
    "            f.write(f'{fc3_weights[q,i].astype(int)} ')\n",
    "            f.write(',')\n",
    "        # f.write('}')\n",
    "    f.write('};\\n')\n",
    "\n",
    "\n",
    "    f.write('const Matrix<2,1,int32_t> fc3_bias{')\n",
    "    for q in range(2):\n",
    "        # f.write('{')\n",
    "        f.write(f'{fc3_bias[q].astype(int)} ')\n",
    "        f.write(',')\n",
    "        # f.write('}')\n",
    "    f.write('};\\n\\n\\n')\n",
    "\n",
    "    f.write('const Matrix<2,1,int8_t> fc3_right_shift{')\n",
    "    for q in range(2):\n",
    "        # f.write('{')\n",
    "        f.write(f'{fc3_right_shift[q].astype(int)} ')\n",
    "        f.write(',')\n",
    "        # f.write('}')\n",
    "    f.write('};\\n\\n\\n')\n",
    "\n",
    "    f.write(f'const float float_conversion[2]{{ {float_conversion[0]}f , {float_conversion[1]}f  }};\\n\\n')\n",
    "    \n",
    "   "
   ]
  },
  {
   "cell_type": "code",
   "execution_count": 48,
   "metadata": {},
   "outputs": [
    {
     "name": "stdout",
     "output_type": "stream",
     "text": [
      "(560,) (2240,)\n"
     ]
    }
   ],
   "source": [
    "fc2_eq=np.zeros(((20*112)//4),dtype=np.uint32)\n",
    "fc2_tmp = np.uint32(fc2_weights.reshape(-1))\n",
    "print(fc2_eq.shape, fc2_tmp.shape)\n",
    "fc2_eq[:] = fc2_tmp[::4]<<24 | fc2_tmp[1::4]<<16 | fc2_tmp[2::4]<<8 | fc2_tmp[3::4]\n",
    "\n",
    "np.save('./fc2_weights.npz',fc2_eq)"
   ]
  },
  {
   "cell_type": "code",
   "execution_count": 49,
   "metadata": {},
   "outputs": [],
   "source": [
    "import plotly.express as ex"
   ]
  },
  {
   "cell_type": "code",
   "execution_count": 50,
   "metadata": {},
   "outputs": [
    {
     "data": {
      "application/vnd.plotly.v1+json": {
       "config": {
        "plotlyServerURL": "https://plot.ly"
       },
       "data": [
        {
         "alignmentgroup": "True",
         "bingroup": "x",
         "hovertemplate": "variable=wide_variable_0<br>value=%{x}<br>count=%{y}<extra></extra>",
         "legendgroup": "wide_variable_0",
         "marker": {
          "color": "#636efa",
          "pattern": {
           "shape": ""
          }
         },
         "name": "wide_variable_0",
         "offsetgroup": "wide_variable_0",
         "orientation": "v",
         "showlegend": true,
         "type": "histogram",
         "x": [
          2,
          -1,
          1,
          2,
          8,
          1,
          2,
          -2,
          0,
          2,
          -16,
          -26,
          1,
          -4,
          -14,
          2,
          -2,
          -2,
          2,
          -6,
          -5,
          2,
          -14,
          -16,
          2,
          -10,
          -2,
          2,
          4,
          5,
          1,
          10,
          19,
          2,
          -1,
          -6,
          2,
          -14,
          -25,
          2,
          -4,
          -11,
          1,
          1,
          9,
          1,
          -15,
          -15,
          1,
          -9,
          -25,
          2,
          5,
          -11,
          2,
          20,
          7,
          2,
          26,
          17,
          1,
          -4,
          4,
          1,
          -16,
          -5,
          1,
          -2,
          20,
          2,
          -8,
          3,
          2,
          -20,
          -27,
          2,
          -23,
          -65,
          1,
          -18,
          -13,
          2,
          35,
          46,
          2,
          29,
          39,
          2,
          -35,
          -39,
          1,
          -54,
          -81,
          1,
          -40,
          -61,
          1,
          33,
          46,
          1,
          59,
          87,
          2,
          -6,
          4,
          1,
          -52,
          -69,
          1,
          -33,
          -50
         ],
         "xaxis": "x",
         "yaxis": "y"
        },
        {
         "alignmentgroup": "True",
         "bingroup": "x",
         "hovertemplate": "variable=wide_variable_1<br>value=%{x}<br>count=%{y}<extra></extra>",
         "legendgroup": "wide_variable_1",
         "marker": {
          "color": "#EF553B",
          "pattern": {
           "shape": ""
          }
         },
         "name": "wide_variable_1",
         "offsetgroup": "wide_variable_1",
         "orientation": "v",
         "showlegend": true,
         "type": "histogram",
         "x": [
          1,
          7,
          11,
          1,
          -5,
          -1,
          1,
          2,
          1,
          1,
          6,
          7,
          1,
          -6,
          -6,
          1,
          -6,
          -21,
          1,
          -12,
          -4,
          1,
          -9,
          -19,
          1,
          3,
          -7,
          1,
          5,
          -4,
          1,
          -1,
          1,
          1,
          10,
          15,
          1,
          8,
          5,
          1,
          -6,
          -6,
          1,
          -5,
          -3,
          1,
          2,
          6,
          1,
          -5,
          5,
          1,
          -10,
          -7,
          1,
          -21,
          -1,
          2,
          -7,
          15,
          1,
          8,
          16,
          1,
          -10,
          -25,
          1,
          -20,
          -5,
          1,
          -3,
          11,
          1,
          14,
          -3,
          1,
          -8,
          15,
          1,
          8,
          9,
          1,
          -1,
          -13,
          2,
          -9,
          -13,
          1,
          -34,
          -53,
          1,
          -29,
          -23,
          1,
          60,
          90,
          1,
          57,
          78,
          1,
          -26,
          -30,
          1,
          -67,
          -81,
          0,
          -40,
          -70,
          1,
          9,
          12
         ],
         "xaxis": "x",
         "yaxis": "y"
        },
        {
         "alignmentgroup": "True",
         "bingroup": "x",
         "hovertemplate": "variable=wide_variable_2<br>value=%{x}<br>count=%{y}<extra></extra>",
         "legendgroup": "wide_variable_2",
         "marker": {
          "color": "#00cc96",
          "pattern": {
           "shape": ""
          }
         },
         "name": "wide_variable_2",
         "offsetgroup": "wide_variable_2",
         "orientation": "v",
         "showlegend": true,
         "type": "histogram",
         "x": [
          1,
          10,
          1,
          1,
          9,
          9,
          1,
          -1,
          11,
          1,
          -11,
          -19,
          1,
          -5,
          -21,
          1,
          -2,
          -4,
          1,
          -10,
          -4,
          1,
          -13,
          -23,
          1,
          15,
          11,
          1,
          13,
          26,
          1,
          -22,
          -11,
          1,
          -43,
          -55,
          1,
          -25,
          -32,
          1,
          45,
          55,
          1,
          53,
          69,
          1,
          3,
          -19,
          1,
          -48,
          -65,
          1,
          -36,
          -33,
          1,
          8,
          23,
          1,
          5,
          15,
          1,
          -13,
          -13,
          1,
          11,
          0,
          1,
          21,
          26,
          1,
          -8,
          -5,
          1,
          -24,
          -30,
          1,
          -18,
          -10,
          1,
          13,
          7,
          1,
          -4,
          5,
          1,
          0,
          -4,
          1,
          20,
          9,
          1,
          13,
          4,
          1,
          -3,
          -7,
          1,
          -18,
          -9,
          1,
          -10,
          -5,
          1,
          6,
          -10,
          1,
          -12,
          -12,
          1,
          -3,
          -1
         ],
         "xaxis": "x",
         "yaxis": "y"
        },
        {
         "alignmentgroup": "True",
         "bingroup": "x",
         "hovertemplate": "variable=wide_variable_3<br>value=%{x}<br>count=%{y}<extra></extra>",
         "legendgroup": "wide_variable_3",
         "marker": {
          "color": "#ab63fa",
          "pattern": {
           "shape": ""
          }
         },
         "name": "wide_variable_3",
         "offsetgroup": "wide_variable_3",
         "orientation": "v",
         "showlegend": true,
         "type": "histogram",
         "x": [
          1,
          4,
          22,
          1,
          -7,
          4,
          0,
          -9,
          -16,
          1,
          14,
          13,
          1,
          7,
          0,
          1,
          -21,
          -31,
          1,
          -9,
          -14,
          1,
          9,
          9,
          1,
          -17,
          20,
          1,
          4,
          6,
          1,
          -9,
          -10,
          1,
          -10,
          -10,
          1,
          -4,
          -1,
          1,
          10,
          11,
          1,
          -15,
          -19,
          1,
          -5,
          -16,
          1,
          3,
          -1,
          1,
          5,
          11,
          1,
          -9,
          -3,
          1,
          5,
          5,
          1,
          16,
          8,
          1,
          -22,
          -26,
          1,
          -65,
          -72,
          1,
          -16,
          -27,
          1,
          47,
          53,
          1,
          56,
          67,
          1,
          2,
          -22,
          1,
          -47,
          -70,
          1,
          -29,
          -62,
          1,
          -7,
          19,
          1,
          -4,
          10,
          1,
          -6,
          -11,
          1,
          -6,
          14,
          1,
          25,
          48,
          1,
          31,
          58,
          1,
          -6,
          -3,
          1,
          -49,
          -74
         ],
         "xaxis": "x",
         "yaxis": "y"
        },
        {
         "alignmentgroup": "True",
         "bingroup": "x",
         "hovertemplate": "variable=wide_variable_4<br>value=%{x}<br>count=%{y}<extra></extra>",
         "legendgroup": "wide_variable_4",
         "marker": {
          "color": "#FFA15A",
          "pattern": {
           "shape": ""
          }
         },
         "name": "wide_variable_4",
         "offsetgroup": "wide_variable_4",
         "orientation": "v",
         "showlegend": true,
         "type": "histogram",
         "x": [
          1,
          13,
          22,
          0,
          -5,
          3,
          1,
          -49,
          -39,
          1,
          11,
          -15,
          1,
          21,
          66,
          1,
          -28,
          -23,
          1,
          -73,
          -89,
          1,
          -3,
          39,
          1,
          57,
          76,
          1,
          27,
          -12,
          1,
          -27,
          -62,
          1,
          -15,
          -16,
          1,
          13,
          12,
          1,
          -27,
          -49,
          1,
          5,
          2,
          0,
          44,
          73,
          1,
          30,
          25,
          1,
          -27,
          -45,
          1,
          -59,
          -56,
          1,
          -35,
          -34,
          1,
          -3,
          14,
          0,
          38,
          83,
          0,
          33,
          46,
          0,
          -31,
          -50,
          1,
          -39,
          -71,
          1,
          -26,
          -9,
          1,
          15,
          21,
          1,
          0,
          34,
          1,
          10,
          -24,
          0,
          -25,
          -32,
          0,
          -5,
          -9,
          1,
          10,
          3,
          1,
          2,
          23,
          1,
          -27,
          -31,
          1,
          -20,
          -30,
          0,
          22,
          45,
          1,
          29,
          20
         ],
         "xaxis": "x",
         "yaxis": "y"
        },
        {
         "alignmentgroup": "True",
         "bingroup": "x",
         "hovertemplate": "variable=wide_variable_5<br>value=%{x}<br>count=%{y}<extra></extra>",
         "legendgroup": "wide_variable_5",
         "marker": {
          "color": "#19d3f3",
          "pattern": {
           "shape": ""
          }
         },
         "name": "wide_variable_5",
         "offsetgroup": "wide_variable_5",
         "orientation": "v",
         "showlegend": true,
         "type": "histogram",
         "x": [
          -1,
          45,
          78,
          1,
          40,
          55,
          -2,
          33,
          40,
          -4,
          9,
          0,
          1,
          46,
          46,
          -1,
          29,
          30,
          -2,
          8,
          21,
          0,
          25,
          45,
          -1,
          36,
          64,
          0,
          52,
          34,
          -1,
          -18,
          28,
          -1,
          46,
          29,
          -1,
          70,
          42,
          -2,
          -2,
          -19,
          1,
          4,
          -11,
          0,
          49,
          71,
          -3,
          31,
          19,
          2,
          34,
          -30,
          -1,
          63,
          71,
          0,
          48,
          96,
          0,
          -31,
          10,
          -1,
          -34,
          -48,
          -3,
          63,
          77,
          -2,
          45,
          127,
          0,
          40,
          19,
          -1,
          31,
          81,
          -1,
          58,
          73,
          -3,
          51,
          38,
          -3,
          37,
          4,
          0,
          23,
          47,
          1,
          43,
          90,
          -2,
          29,
          87,
          -3,
          9,
          81,
          -1,
          -7,
          20,
          0,
          36,
          16,
          1,
          23,
          11,
          -1,
          53,
          28
         ],
         "xaxis": "x",
         "yaxis": "y"
        },
        {
         "alignmentgroup": "True",
         "bingroup": "x",
         "hovertemplate": "variable=wide_variable_6<br>value=%{x}<br>count=%{y}<extra></extra>",
         "legendgroup": "wide_variable_6",
         "marker": {
          "color": "#FF6692",
          "pattern": {
           "shape": ""
          }
         },
         "name": "wide_variable_6",
         "offsetgroup": "wide_variable_6",
         "orientation": "v",
         "showlegend": true,
         "type": "histogram",
         "x": [
          1,
          -38,
          -76,
          2,
          -21,
          -38,
          2,
          50,
          79,
          2,
          60,
          77,
          1,
          -39,
          -62,
          1,
          -76,
          -116,
          1,
          -63,
          -86,
          1,
          13,
          19,
          2,
          69,
          111,
          2,
          30,
          36,
          2,
          -32,
          -14,
          1,
          -30,
          -56,
          2,
          -17,
          -22,
          1,
          5,
          2,
          1,
          -28,
          -26,
          2,
          -20,
          -32,
          1,
          3,
          15,
          1,
          24,
          33,
          1,
          -5,
          -7,
          1,
          1,
          -5,
          1,
          -21,
          -28,
          1,
          -20,
          -33,
          1,
          19,
          24,
          1,
          8,
          23,
          2,
          -15,
          -30,
          1,
          17,
          -14,
          2,
          16,
          37,
          2,
          0,
          -1,
          2,
          -20,
          -25,
          2,
          -8,
          4,
          2,
          6,
          21,
          1,
          -11,
          3,
          2,
          -14,
          -16,
          1,
          9,
          0,
          2,
          13,
          3,
          1,
          -4,
          -27,
          1,
          -14,
          0
         ],
         "xaxis": "x",
         "yaxis": "y"
        },
        {
         "alignmentgroup": "True",
         "bingroup": "x",
         "hovertemplate": "variable=wide_variable_7<br>value=%{x}<br>count=%{y}<extra></extra>",
         "legendgroup": "wide_variable_7",
         "marker": {
          "color": "#B6E880",
          "pattern": {
           "shape": ""
          }
         },
         "name": "wide_variable_7",
         "offsetgroup": "wide_variable_7",
         "orientation": "v",
         "showlegend": true,
         "type": "histogram",
         "x": [
          1,
          -14,
          -30,
          0,
          5,
          -2,
          1,
          21,
          18,
          1,
          6,
          9,
          0,
          -3,
          2,
          1,
          -10,
          -17,
          1,
          -6,
          2,
          0,
          -4,
          -1,
          0,
          -17,
          -32,
          0,
          -33,
          -32,
          0,
          8,
          16,
          1,
          53,
          68,
          1,
          26,
          47,
          1,
          -23,
          -38,
          0,
          -38,
          -45,
          0,
          -36,
          -52,
          1,
          -2,
          -14,
          0,
          37,
          65,
          1,
          36,
          37,
          1,
          -25,
          -39,
          0,
          -39,
          -48,
          1,
          6,
          -12,
          0,
          22,
          2,
          1,
          -12,
          -9,
          0,
          -19,
          -19,
          1,
          9,
          24,
          0,
          10,
          4,
          1,
          -18,
          -10,
          1,
          1,
          -6,
          1,
          -5,
          11,
          0,
          -1,
          -18,
          0,
          -6,
          -3,
          0,
          -6,
          3,
          0,
          -9,
          -5,
          1,
          3,
          4,
          1,
          5,
          -9,
          0,
          -5,
          8
         ],
         "xaxis": "x",
         "yaxis": "y"
        },
        {
         "alignmentgroup": "True",
         "bingroup": "x",
         "hovertemplate": "variable=wide_variable_8<br>value=%{x}<br>count=%{y}<extra></extra>",
         "legendgroup": "wide_variable_8",
         "marker": {
          "color": "#FF97FF",
          "pattern": {
           "shape": ""
          }
         },
         "name": "wide_variable_8",
         "offsetgroup": "wide_variable_8",
         "orientation": "v",
         "showlegend": true,
         "type": "histogram",
         "x": [
          2,
          -15,
          -16,
          2,
          -5,
          -5,
          2,
          8,
          12,
          2,
          -2,
          -6,
          2,
          -4,
          -1,
          2,
          4,
          -11,
          1,
          2,
          -3,
          2,
          -4,
          7,
          1,
          2,
          -4,
          2,
          -14,
          -20,
          2,
          -5,
          -24,
          2,
          5,
          15,
          1,
          -9,
          3,
          2,
          -5,
          -7,
          2,
          -23,
          -6,
          2,
          -12,
          -3,
          2,
          13,
          9,
          1,
          5,
          -20,
          2,
          -15,
          -20,
          2,
          -4,
          -4,
          2,
          10,
          29,
          2,
          1,
          -4,
          2,
          -17,
          -27,
          2,
          -16,
          -17,
          1,
          17,
          5,
          2,
          24,
          18,
          2,
          -38,
          -37,
          2,
          -60,
          -79,
          2,
          -60,
          -54,
          2,
          20,
          42,
          2,
          98,
          119,
          2,
          28,
          56,
          2,
          -76,
          -92,
          2,
          -85,
          -121,
          2,
          -55,
          -60,
          1,
          21,
          30,
          2,
          29,
          39
         ],
         "xaxis": "x",
         "yaxis": "y"
        },
        {
         "alignmentgroup": "True",
         "bingroup": "x",
         "hovertemplate": "variable=wide_variable_9<br>value=%{x}<br>count=%{y}<extra></extra>",
         "legendgroup": "wide_variable_9",
         "marker": {
          "color": "#FECB52",
          "pattern": {
           "shape": ""
          }
         },
         "name": "wide_variable_9",
         "offsetgroup": "wide_variable_9",
         "orientation": "v",
         "showlegend": true,
         "type": "histogram",
         "x": [
          1,
          0,
          -2,
          1,
          34,
          42,
          1,
          23,
          37,
          1,
          -32,
          -38,
          1,
          -48,
          -74,
          1,
          -39,
          -51,
          1,
          15,
          9,
          1,
          34,
          45,
          1,
          -1,
          -2,
          1,
          -17,
          -27,
          1,
          -15,
          -31,
          1,
          -4,
          -13,
          1,
          17,
          16,
          1,
          3,
          -8,
          1,
          -5,
          0,
          1,
          1,
          5,
          1,
          -1,
          4,
          1,
          -13,
          -28,
          1,
          -7,
          -16,
          1,
          -7,
          -4,
          1,
          4,
          8,
          1,
          0,
          21,
          1,
          -5,
          11,
          1,
          -1,
          1,
          1,
          -3,
          6,
          1,
          -9,
          -7,
          1,
          -8,
          -20,
          1,
          -2,
          -4,
          1,
          -3,
          -7,
          1,
          7,
          15,
          1,
          -1,
          5,
          1,
          -7,
          -6,
          1,
          -3,
          -5,
          1,
          7,
          -3,
          1,
          -3,
          -1,
          1,
          2,
          0,
          1,
          -4,
          -17
         ],
         "xaxis": "x",
         "yaxis": "y"
        },
        {
         "alignmentgroup": "True",
         "bingroup": "x",
         "hovertemplate": "variable=wide_variable_10<br>value=%{x}<br>count=%{y}<extra></extra>",
         "legendgroup": "wide_variable_10",
         "marker": {
          "color": "#636efa",
          "pattern": {
           "shape": ""
          }
         },
         "name": "wide_variable_10",
         "offsetgroup": "wide_variable_10",
         "orientation": "v",
         "showlegend": true,
         "type": "histogram",
         "x": [
          1,
          -20,
          -30,
          1,
          -9,
          -6,
          1,
          17,
          27,
          1,
          -11,
          -7,
          1,
          -18,
          -20,
          1,
          11,
          18,
          1,
          19,
          34,
          1,
          -13,
          -17,
          1,
          -29,
          -22,
          1,
          1,
          -1,
          1,
          11,
          21,
          1,
          -1,
          -9,
          1,
          -31,
          -53,
          1,
          -19,
          -35,
          1,
          1,
          -12,
          1,
          41,
          36,
          1,
          55,
          83,
          1,
          13,
          21,
          1,
          -34,
          -64,
          0,
          -59,
          -86,
          0,
          -37,
          -42,
          1,
          13,
          35,
          1,
          35,
          39,
          1,
          -3,
          5,
          1,
          -11,
          -17,
          1,
          -8,
          -3,
          1,
          18,
          22,
          1,
          2,
          0,
          1,
          -23,
          -40,
          1,
          -10,
          -24,
          1,
          3,
          -1,
          1,
          -10,
          -14,
          1,
          2,
          -16,
          1,
          10,
          10,
          1,
          -5,
          -12,
          1,
          -5,
          -17,
          1,
          21,
          9
         ],
         "xaxis": "x",
         "yaxis": "y"
        },
        {
         "alignmentgroup": "True",
         "bingroup": "x",
         "hovertemplate": "variable=wide_variable_11<br>value=%{x}<br>count=%{y}<extra></extra>",
         "legendgroup": "wide_variable_11",
         "marker": {
          "color": "#EF553B",
          "pattern": {
           "shape": ""
          }
         },
         "name": "wide_variable_11",
         "offsetgroup": "wide_variable_11",
         "orientation": "v",
         "showlegend": true,
         "type": "histogram",
         "x": [
          0,
          -26,
          -34,
          0,
          13,
          -32,
          1,
          15,
          11,
          1,
          2,
          -15,
          1,
          16,
          14,
          1,
          14,
          50,
          1,
          -14,
          -13,
          1,
          -18,
          -23,
          1,
          15,
          34,
          1,
          2,
          -51,
          1,
          -51,
          -79,
          1,
          -26,
          -37,
          1,
          68,
          70,
          1,
          36,
          95,
          0,
          -49,
          -56,
          1,
          -46,
          -87,
          1,
          -33,
          -39,
          0,
          12,
          -8,
          1,
          50,
          46,
          0,
          38,
          47,
          1,
          -25,
          0,
          1,
          -45,
          -75,
          0,
          -36,
          -24,
          1,
          13,
          4,
          1,
          10,
          -27,
          1,
          -16,
          -10,
          1,
          -7,
          53,
          1,
          13,
          24,
          1,
          6,
          20,
          1,
          -11,
          -13,
          1,
          -8,
          -61,
          1,
          -10,
          -32,
          1,
          15,
          -3,
          1,
          -28,
          -26,
          1,
          -32,
          -40,
          0,
          23,
          8,
          1,
          67,
          55
         ],
         "xaxis": "x",
         "yaxis": "y"
        },
        {
         "alignmentgroup": "True",
         "bingroup": "x",
         "hovertemplate": "variable=wide_variable_12<br>value=%{x}<br>count=%{y}<extra></extra>",
         "legendgroup": "wide_variable_12",
         "marker": {
          "color": "#00cc96",
          "pattern": {
           "shape": ""
          }
         },
         "name": "wide_variable_12",
         "offsetgroup": "wide_variable_12",
         "orientation": "v",
         "showlegend": true,
         "type": "histogram",
         "x": [
          0,
          5,
          -2,
          1,
          -10,
          -29,
          1,
          1,
          0,
          1,
          10,
          -37,
          -1,
          -13,
          -31,
          1,
          31,
          87,
          0,
          21,
          26,
          1,
          -35,
          -74,
          1,
          -58,
          -93,
          1,
          -5,
          -56,
          0,
          46,
          65,
          1,
          100,
          113,
          0,
          33,
          49,
          1,
          -58,
          -76,
          0,
          -63,
          -83,
          0,
          22,
          7,
          0,
          36,
          70,
          0,
          -45,
          -85,
          1,
          -72,
          -32,
          -1,
          40,
          58,
          0,
          8,
          68,
          0,
          -13,
          -26,
          1,
          6,
          7,
          0,
          6,
          23,
          0,
          -38,
          -36,
          0,
          -26,
          -37,
          0,
          13,
          44,
          0,
          -8,
          23,
          1,
          -38,
          -87,
          1,
          27,
          31,
          0,
          52,
          69,
          1,
          -34,
          -66,
          2,
          -41,
          -66,
          1,
          6,
          77,
          1,
          64,
          79,
          0,
          -9,
          -40,
          1,
          -51,
          -84
         ],
         "xaxis": "x",
         "yaxis": "y"
        },
        {
         "alignmentgroup": "True",
         "bingroup": "x",
         "hovertemplate": "variable=wide_variable_13<br>value=%{x}<br>count=%{y}<extra></extra>",
         "legendgroup": "wide_variable_13",
         "marker": {
          "color": "#ab63fa",
          "pattern": {
           "shape": ""
          }
         },
         "name": "wide_variable_13",
         "offsetgroup": "wide_variable_13",
         "orientation": "v",
         "showlegend": true,
         "type": "histogram",
         "x": [
          2,
          -4,
          -13,
          2,
          -14,
          -7,
          2,
          -11,
          0,
          2,
          -2,
          3,
          2,
          -9,
          3,
          2,
          9,
          2,
          2,
          9,
          3,
          2,
          -8,
          -19,
          1,
          -22,
          -10,
          2,
          -11,
          -9,
          2,
          -11,
          -13,
          2,
          -3,
          20,
          2,
          -3,
          17,
          2,
          -10,
          -14,
          2,
          11,
          10,
          2,
          15,
          34,
          1,
          -4,
          3,
          2,
          -17,
          -40,
          2,
          -19,
          -49,
          2,
          -8,
          -11,
          2,
          17,
          18,
          2,
          -2,
          -26,
          1,
          -3,
          -15,
          2,
          11,
          48,
          2,
          13,
          9,
          2,
          -29,
          -52,
          2,
          -69,
          -77,
          2,
          -27,
          -40,
          2,
          62,
          91,
          2,
          62,
          90,
          2,
          -28,
          -34,
          2,
          -67,
          -93,
          2,
          -49,
          -47,
          2,
          3,
          16,
          2,
          24,
          20,
          2,
          -8,
          -5,
          2,
          -7,
          -7
         ],
         "xaxis": "x",
         "yaxis": "y"
        },
        {
         "alignmentgroup": "True",
         "bingroup": "x",
         "hovertemplate": "variable=wide_variable_14<br>value=%{x}<br>count=%{y}<extra></extra>",
         "legendgroup": "wide_variable_14",
         "marker": {
          "color": "#FFA15A",
          "pattern": {
           "shape": ""
          }
         },
         "name": "wide_variable_14",
         "offsetgroup": "wide_variable_14",
         "orientation": "v",
         "showlegend": true,
         "type": "histogram",
         "x": [
          2,
          -6,
          -16,
          2,
          1,
          16,
          3,
          -1,
          18,
          2,
          -1,
          0,
          2,
          -20,
          -24,
          3,
          -5,
          0,
          2,
          25,
          34,
          2,
          -12,
          -17,
          1,
          -42,
          -58,
          2,
          -22,
          -38,
          2,
          2,
          38,
          2,
          19,
          12,
          2,
          -28,
          -46,
          2,
          -44,
          -54,
          2,
          23,
          22,
          2,
          36,
          48,
          1,
          -36,
          -37,
          1,
          -51,
          -81,
          2,
          -19,
          -14,
          2,
          47,
          47,
          2,
          80,
          100,
          2,
          26,
          4,
          2,
          -73,
          -90,
          2,
          -73,
          -106,
          2,
          -37,
          -58,
          2,
          44,
          44,
          3,
          61,
          75,
          3,
          15,
          48,
          2,
          -22,
          -16,
          2,
          -37,
          -66,
          2,
          -42,
          -18,
          2,
          -8,
          6,
          1,
          -23,
          -45,
          2,
          -28,
          -43,
          2,
          -1,
          15,
          2,
          16,
          24,
          2,
          3,
          -15
         ],
         "xaxis": "x",
         "yaxis": "y"
        },
        {
         "alignmentgroup": "True",
         "bingroup": "x",
         "hovertemplate": "variable=wide_variable_15<br>value=%{x}<br>count=%{y}<extra></extra>",
         "legendgroup": "wide_variable_15",
         "marker": {
          "color": "#19d3f3",
          "pattern": {
           "shape": ""
          }
         },
         "name": "wide_variable_15",
         "offsetgroup": "wide_variable_15",
         "orientation": "v",
         "showlegend": true,
         "type": "histogram",
         "x": [
          1,
          20,
          18,
          2,
          -4,
          -2,
          2,
          -21,
          -35,
          2,
          22,
          13,
          1,
          -1,
          14,
          1,
          -33,
          -38,
          1,
          -8,
          -5,
          1,
          32,
          52,
          1,
          -2,
          -1,
          1,
          -7,
          -12,
          1,
          8,
          -3,
          2,
          9,
          -7,
          1,
          -34,
          -18,
          2,
          -19,
          -28,
          1,
          1,
          13,
          1,
          13,
          -18,
          1,
          -21,
          -39,
          1,
          13,
          -4,
          2,
          39,
          64,
          1,
          10,
          13,
          1,
          -60,
          -79,
          1,
          -51,
          -87,
          1,
          29,
          9,
          2,
          92,
          112,
          1,
          23,
          36,
          2,
          -63,
          -106,
          2,
          -36,
          -47,
          2,
          25,
          57,
          1,
          18,
          10,
          1,
          -10,
          -34,
          1,
          -19,
          8,
          1,
          6,
          25,
          2,
          -13,
          -37,
          1,
          -38,
          -48,
          1,
          -17,
          20,
          1,
          15,
          62,
          2,
          -8,
          -18
         ],
         "xaxis": "x",
         "yaxis": "y"
        },
        {
         "alignmentgroup": "True",
         "bingroup": "x",
         "hovertemplate": "variable=wide_variable_16<br>value=%{x}<br>count=%{y}<extra></extra>",
         "legendgroup": "wide_variable_16",
         "marker": {
          "color": "#FF6692",
          "pattern": {
           "shape": ""
          }
         },
         "name": "wide_variable_16",
         "offsetgroup": "wide_variable_16",
         "orientation": "v",
         "showlegend": true,
         "type": "histogram",
         "x": [
          1,
          -16,
          -24,
          1,
          -37,
          -50,
          1,
          -15,
          -42,
          1,
          18,
          42,
          1,
          53,
          58,
          1,
          16,
          18,
          1,
          -41,
          -56,
          1,
          -53,
          -69,
          1,
          -15,
          -25,
          1,
          19,
          41,
          1,
          12,
          23,
          1,
          -7,
          -19,
          1,
          -2,
          -21,
          1,
          -6,
          -8,
          1,
          -9,
          -7,
          1,
          -10,
          -1,
          1,
          -14,
          -9,
          1,
          2,
          14,
          1,
          4,
          8,
          1,
          -3,
          0,
          1,
          -5,
          1,
          1,
          -1,
          -1,
          1,
          1,
          0,
          1,
          1,
          -5,
          1,
          -5,
          -5,
          1,
          -12,
          -20,
          1,
          11,
          1,
          1,
          11,
          0,
          1,
          -3,
          -11,
          1,
          -15,
          -12,
          1,
          1,
          -6,
          1,
          4,
          8,
          1,
          -2,
          0,
          2,
          -3,
          -16,
          1,
          -7,
          -9,
          1,
          8,
          -4,
          1,
          9,
          9
         ],
         "xaxis": "x",
         "yaxis": "y"
        },
        {
         "alignmentgroup": "True",
         "bingroup": "x",
         "hovertemplate": "variable=wide_variable_17<br>value=%{x}<br>count=%{y}<extra></extra>",
         "legendgroup": "wide_variable_17",
         "marker": {
          "color": "#B6E880",
          "pattern": {
           "shape": ""
          }
         },
         "name": "wide_variable_17",
         "offsetgroup": "wide_variable_17",
         "orientation": "v",
         "showlegend": true,
         "type": "histogram",
         "x": [
          1,
          45,
          68,
          1,
          38,
          47,
          1,
          -31,
          -37,
          1,
          -75,
          -97,
          1,
          -13,
          -35,
          1,
          38,
          44,
          1,
          -4,
          -5,
          0,
          -50,
          -63,
          1,
          -5,
          -19,
          1,
          24,
          45,
          1,
          42,
          32,
          1,
          7,
          7,
          1,
          -6,
          -38,
          1,
          -34,
          -56,
          1,
          -40,
          -16,
          1,
          -4,
          0,
          1,
          -4,
          9,
          1,
          7,
          22,
          1,
          8,
          0,
          1,
          -21,
          -16,
          1,
          -12,
          -29,
          1,
          -6,
          -12,
          1,
          -3,
          -4,
          1,
          16,
          -6,
          1,
          20,
          11,
          2,
          4,
          4,
          1,
          -15,
          -6,
          1,
          -10,
          -22,
          1,
          7,
          30,
          1,
          11,
          5,
          1,
          -17,
          -15,
          1,
          -11,
          15,
          1,
          6,
          31,
          1,
          -11,
          -22,
          1,
          -13,
          -24,
          1,
          1,
          -7,
          1,
          1,
          0
         ],
         "xaxis": "x",
         "yaxis": "y"
        },
        {
         "alignmentgroup": "True",
         "bingroup": "x",
         "hovertemplate": "variable=wide_variable_18<br>value=%{x}<br>count=%{y}<extra></extra>",
         "legendgroup": "wide_variable_18",
         "marker": {
          "color": "#FF97FF",
          "pattern": {
           "shape": ""
          }
         },
         "name": "wide_variable_18",
         "offsetgroup": "wide_variable_18",
         "orientation": "v",
         "showlegend": true,
         "type": "histogram",
         "x": [
          2,
          17,
          34,
          2,
          -36,
          -37,
          2,
          -84,
          -119,
          3,
          -52,
          -61,
          3,
          5,
          -18,
          2,
          31,
          25,
          3,
          81,
          98,
          2,
          64,
          89,
          2,
          -45,
          -49,
          2,
          -102,
          -105,
          2,
          -93,
          -123,
          2,
          -17,
          -13,
          2,
          78,
          100,
          2,
          42,
          71,
          3,
          -43,
          -38,
          3,
          -66,
          -85,
          3,
          -5,
          -19,
          3,
          30,
          65,
          3,
          -18,
          -7,
          2,
          -37,
          -34,
          2,
          1,
          -31,
          3,
          22,
          31,
          3,
          27,
          33,
          3,
          -16,
          -6,
          3,
          -52,
          -37,
          2,
          -34,
          -59,
          2,
          33,
          20,
          2,
          63,
          13,
          3,
          -14,
          -22,
          2,
          -23,
          -48,
          2,
          -17,
          26,
          3,
          26,
          22,
          3,
          9,
          10,
          2,
          -3,
          -16,
          2,
          2,
          -15,
          3,
          -7,
          -7,
          3,
          -14,
          -27
         ],
         "xaxis": "x",
         "yaxis": "y"
        },
        {
         "alignmentgroup": "True",
         "bingroup": "x",
         "hovertemplate": "variable=wide_variable_19<br>value=%{x}<br>count=%{y}<extra></extra>",
         "legendgroup": "wide_variable_19",
         "marker": {
          "color": "#FECB52",
          "pattern": {
           "shape": ""
          }
         },
         "name": "wide_variable_19",
         "offsetgroup": "wide_variable_19",
         "orientation": "v",
         "showlegend": true,
         "type": "histogram",
         "x": [
          1,
          -5,
          -10,
          0,
          -6,
          1,
          1,
          -16,
          -11,
          2,
          -24,
          -31,
          0,
          -12,
          9,
          1,
          25,
          28,
          1,
          14,
          17,
          1,
          -9,
          -9,
          1,
          19,
          -24,
          1,
          17,
          -35,
          1,
          -16,
          -4,
          2,
          -2,
          -19,
          1,
          -25,
          -45,
          1,
          -28,
          -34,
          1,
          56,
          47,
          1,
          35,
          74,
          1,
          -45,
          -16,
          1,
          -32,
          -49,
          1,
          39,
          35,
          1,
          55,
          57,
          1,
          -43,
          -59,
          0,
          -85,
          -115,
          1,
          -27,
          -43,
          1,
          17,
          21,
          1,
          65,
          100,
          1,
          54,
          93,
          1,
          -27,
          8,
          1,
          -86,
          -115,
          1,
          -54,
          -61,
          2,
          12,
          20,
          1,
          25,
          7,
          1,
          -11,
          -12,
          1,
          17,
          -12,
          1,
          20,
          26,
          1,
          -7,
          -59,
          1,
          -18,
          -55,
          1,
          15,
          0
         ],
         "xaxis": "x",
         "yaxis": "y"
        }
       ],
       "layout": {
        "barmode": "relative",
        "legend": {
         "title": {
          "text": "variable"
         },
         "tracegroupgap": 0
        },
        "margin": {
         "t": 60
        },
        "template": {
         "data": {
          "bar": [
           {
            "error_x": {
             "color": "#2a3f5f"
            },
            "error_y": {
             "color": "#2a3f5f"
            },
            "marker": {
             "line": {
              "color": "#E5ECF6",
              "width": 0.5
             },
             "pattern": {
              "fillmode": "overlay",
              "size": 10,
              "solidity": 0.2
             }
            },
            "type": "bar"
           }
          ],
          "barpolar": [
           {
            "marker": {
             "line": {
              "color": "#E5ECF6",
              "width": 0.5
             },
             "pattern": {
              "fillmode": "overlay",
              "size": 10,
              "solidity": 0.2
             }
            },
            "type": "barpolar"
           }
          ],
          "carpet": [
           {
            "aaxis": {
             "endlinecolor": "#2a3f5f",
             "gridcolor": "white",
             "linecolor": "white",
             "minorgridcolor": "white",
             "startlinecolor": "#2a3f5f"
            },
            "baxis": {
             "endlinecolor": "#2a3f5f",
             "gridcolor": "white",
             "linecolor": "white",
             "minorgridcolor": "white",
             "startlinecolor": "#2a3f5f"
            },
            "type": "carpet"
           }
          ],
          "choropleth": [
           {
            "colorbar": {
             "outlinewidth": 0,
             "ticks": ""
            },
            "type": "choropleth"
           }
          ],
          "contour": [
           {
            "colorbar": {
             "outlinewidth": 0,
             "ticks": ""
            },
            "colorscale": [
             [
              0,
              "#0d0887"
             ],
             [
              0.1111111111111111,
              "#46039f"
             ],
             [
              0.2222222222222222,
              "#7201a8"
             ],
             [
              0.3333333333333333,
              "#9c179e"
             ],
             [
              0.4444444444444444,
              "#bd3786"
             ],
             [
              0.5555555555555556,
              "#d8576b"
             ],
             [
              0.6666666666666666,
              "#ed7953"
             ],
             [
              0.7777777777777778,
              "#fb9f3a"
             ],
             [
              0.8888888888888888,
              "#fdca26"
             ],
             [
              1,
              "#f0f921"
             ]
            ],
            "type": "contour"
           }
          ],
          "contourcarpet": [
           {
            "colorbar": {
             "outlinewidth": 0,
             "ticks": ""
            },
            "type": "contourcarpet"
           }
          ],
          "heatmap": [
           {
            "colorbar": {
             "outlinewidth": 0,
             "ticks": ""
            },
            "colorscale": [
             [
              0,
              "#0d0887"
             ],
             [
              0.1111111111111111,
              "#46039f"
             ],
             [
              0.2222222222222222,
              "#7201a8"
             ],
             [
              0.3333333333333333,
              "#9c179e"
             ],
             [
              0.4444444444444444,
              "#bd3786"
             ],
             [
              0.5555555555555556,
              "#d8576b"
             ],
             [
              0.6666666666666666,
              "#ed7953"
             ],
             [
              0.7777777777777778,
              "#fb9f3a"
             ],
             [
              0.8888888888888888,
              "#fdca26"
             ],
             [
              1,
              "#f0f921"
             ]
            ],
            "type": "heatmap"
           }
          ],
          "heatmapgl": [
           {
            "colorbar": {
             "outlinewidth": 0,
             "ticks": ""
            },
            "colorscale": [
             [
              0,
              "#0d0887"
             ],
             [
              0.1111111111111111,
              "#46039f"
             ],
             [
              0.2222222222222222,
              "#7201a8"
             ],
             [
              0.3333333333333333,
              "#9c179e"
             ],
             [
              0.4444444444444444,
              "#bd3786"
             ],
             [
              0.5555555555555556,
              "#d8576b"
             ],
             [
              0.6666666666666666,
              "#ed7953"
             ],
             [
              0.7777777777777778,
              "#fb9f3a"
             ],
             [
              0.8888888888888888,
              "#fdca26"
             ],
             [
              1,
              "#f0f921"
             ]
            ],
            "type": "heatmapgl"
           }
          ],
          "histogram": [
           {
            "marker": {
             "pattern": {
              "fillmode": "overlay",
              "size": 10,
              "solidity": 0.2
             }
            },
            "type": "histogram"
           }
          ],
          "histogram2d": [
           {
            "colorbar": {
             "outlinewidth": 0,
             "ticks": ""
            },
            "colorscale": [
             [
              0,
              "#0d0887"
             ],
             [
              0.1111111111111111,
              "#46039f"
             ],
             [
              0.2222222222222222,
              "#7201a8"
             ],
             [
              0.3333333333333333,
              "#9c179e"
             ],
             [
              0.4444444444444444,
              "#bd3786"
             ],
             [
              0.5555555555555556,
              "#d8576b"
             ],
             [
              0.6666666666666666,
              "#ed7953"
             ],
             [
              0.7777777777777778,
              "#fb9f3a"
             ],
             [
              0.8888888888888888,
              "#fdca26"
             ],
             [
              1,
              "#f0f921"
             ]
            ],
            "type": "histogram2d"
           }
          ],
          "histogram2dcontour": [
           {
            "colorbar": {
             "outlinewidth": 0,
             "ticks": ""
            },
            "colorscale": [
             [
              0,
              "#0d0887"
             ],
             [
              0.1111111111111111,
              "#46039f"
             ],
             [
              0.2222222222222222,
              "#7201a8"
             ],
             [
              0.3333333333333333,
              "#9c179e"
             ],
             [
              0.4444444444444444,
              "#bd3786"
             ],
             [
              0.5555555555555556,
              "#d8576b"
             ],
             [
              0.6666666666666666,
              "#ed7953"
             ],
             [
              0.7777777777777778,
              "#fb9f3a"
             ],
             [
              0.8888888888888888,
              "#fdca26"
             ],
             [
              1,
              "#f0f921"
             ]
            ],
            "type": "histogram2dcontour"
           }
          ],
          "mesh3d": [
           {
            "colorbar": {
             "outlinewidth": 0,
             "ticks": ""
            },
            "type": "mesh3d"
           }
          ],
          "parcoords": [
           {
            "line": {
             "colorbar": {
              "outlinewidth": 0,
              "ticks": ""
             }
            },
            "type": "parcoords"
           }
          ],
          "pie": [
           {
            "automargin": true,
            "type": "pie"
           }
          ],
          "scatter": [
           {
            "fillpattern": {
             "fillmode": "overlay",
             "size": 10,
             "solidity": 0.2
            },
            "type": "scatter"
           }
          ],
          "scatter3d": [
           {
            "line": {
             "colorbar": {
              "outlinewidth": 0,
              "ticks": ""
             }
            },
            "marker": {
             "colorbar": {
              "outlinewidth": 0,
              "ticks": ""
             }
            },
            "type": "scatter3d"
           }
          ],
          "scattercarpet": [
           {
            "marker": {
             "colorbar": {
              "outlinewidth": 0,
              "ticks": ""
             }
            },
            "type": "scattercarpet"
           }
          ],
          "scattergeo": [
           {
            "marker": {
             "colorbar": {
              "outlinewidth": 0,
              "ticks": ""
             }
            },
            "type": "scattergeo"
           }
          ],
          "scattergl": [
           {
            "marker": {
             "colorbar": {
              "outlinewidth": 0,
              "ticks": ""
             }
            },
            "type": "scattergl"
           }
          ],
          "scattermapbox": [
           {
            "marker": {
             "colorbar": {
              "outlinewidth": 0,
              "ticks": ""
             }
            },
            "type": "scattermapbox"
           }
          ],
          "scatterpolar": [
           {
            "marker": {
             "colorbar": {
              "outlinewidth": 0,
              "ticks": ""
             }
            },
            "type": "scatterpolar"
           }
          ],
          "scatterpolargl": [
           {
            "marker": {
             "colorbar": {
              "outlinewidth": 0,
              "ticks": ""
             }
            },
            "type": "scatterpolargl"
           }
          ],
          "scatterternary": [
           {
            "marker": {
             "colorbar": {
              "outlinewidth": 0,
              "ticks": ""
             }
            },
            "type": "scatterternary"
           }
          ],
          "surface": [
           {
            "colorbar": {
             "outlinewidth": 0,
             "ticks": ""
            },
            "colorscale": [
             [
              0,
              "#0d0887"
             ],
             [
              0.1111111111111111,
              "#46039f"
             ],
             [
              0.2222222222222222,
              "#7201a8"
             ],
             [
              0.3333333333333333,
              "#9c179e"
             ],
             [
              0.4444444444444444,
              "#bd3786"
             ],
             [
              0.5555555555555556,
              "#d8576b"
             ],
             [
              0.6666666666666666,
              "#ed7953"
             ],
             [
              0.7777777777777778,
              "#fb9f3a"
             ],
             [
              0.8888888888888888,
              "#fdca26"
             ],
             [
              1,
              "#f0f921"
             ]
            ],
            "type": "surface"
           }
          ],
          "table": [
           {
            "cells": {
             "fill": {
              "color": "#EBF0F8"
             },
             "line": {
              "color": "white"
             }
            },
            "header": {
             "fill": {
              "color": "#C8D4E3"
             },
             "line": {
              "color": "white"
             }
            },
            "type": "table"
           }
          ]
         },
         "layout": {
          "annotationdefaults": {
           "arrowcolor": "#2a3f5f",
           "arrowhead": 0,
           "arrowwidth": 1
          },
          "autotypenumbers": "strict",
          "coloraxis": {
           "colorbar": {
            "outlinewidth": 0,
            "ticks": ""
           }
          },
          "colorscale": {
           "diverging": [
            [
             0,
             "#8e0152"
            ],
            [
             0.1,
             "#c51b7d"
            ],
            [
             0.2,
             "#de77ae"
            ],
            [
             0.3,
             "#f1b6da"
            ],
            [
             0.4,
             "#fde0ef"
            ],
            [
             0.5,
             "#f7f7f7"
            ],
            [
             0.6,
             "#e6f5d0"
            ],
            [
             0.7,
             "#b8e186"
            ],
            [
             0.8,
             "#7fbc41"
            ],
            [
             0.9,
             "#4d9221"
            ],
            [
             1,
             "#276419"
            ]
           ],
           "sequential": [
            [
             0,
             "#0d0887"
            ],
            [
             0.1111111111111111,
             "#46039f"
            ],
            [
             0.2222222222222222,
             "#7201a8"
            ],
            [
             0.3333333333333333,
             "#9c179e"
            ],
            [
             0.4444444444444444,
             "#bd3786"
            ],
            [
             0.5555555555555556,
             "#d8576b"
            ],
            [
             0.6666666666666666,
             "#ed7953"
            ],
            [
             0.7777777777777778,
             "#fb9f3a"
            ],
            [
             0.8888888888888888,
             "#fdca26"
            ],
            [
             1,
             "#f0f921"
            ]
           ],
           "sequentialminus": [
            [
             0,
             "#0d0887"
            ],
            [
             0.1111111111111111,
             "#46039f"
            ],
            [
             0.2222222222222222,
             "#7201a8"
            ],
            [
             0.3333333333333333,
             "#9c179e"
            ],
            [
             0.4444444444444444,
             "#bd3786"
            ],
            [
             0.5555555555555556,
             "#d8576b"
            ],
            [
             0.6666666666666666,
             "#ed7953"
            ],
            [
             0.7777777777777778,
             "#fb9f3a"
            ],
            [
             0.8888888888888888,
             "#fdca26"
            ],
            [
             1,
             "#f0f921"
            ]
           ]
          },
          "colorway": [
           "#636efa",
           "#EF553B",
           "#00cc96",
           "#ab63fa",
           "#FFA15A",
           "#19d3f3",
           "#FF6692",
           "#B6E880",
           "#FF97FF",
           "#FECB52"
          ],
          "font": {
           "color": "#2a3f5f"
          },
          "geo": {
           "bgcolor": "white",
           "lakecolor": "white",
           "landcolor": "#E5ECF6",
           "showlakes": true,
           "showland": true,
           "subunitcolor": "white"
          },
          "hoverlabel": {
           "align": "left"
          },
          "hovermode": "closest",
          "mapbox": {
           "style": "light"
          },
          "paper_bgcolor": "white",
          "plot_bgcolor": "#E5ECF6",
          "polar": {
           "angularaxis": {
            "gridcolor": "white",
            "linecolor": "white",
            "ticks": ""
           },
           "bgcolor": "#E5ECF6",
           "radialaxis": {
            "gridcolor": "white",
            "linecolor": "white",
            "ticks": ""
           }
          },
          "scene": {
           "xaxis": {
            "backgroundcolor": "#E5ECF6",
            "gridcolor": "white",
            "gridwidth": 2,
            "linecolor": "white",
            "showbackground": true,
            "ticks": "",
            "zerolinecolor": "white"
           },
           "yaxis": {
            "backgroundcolor": "#E5ECF6",
            "gridcolor": "white",
            "gridwidth": 2,
            "linecolor": "white",
            "showbackground": true,
            "ticks": "",
            "zerolinecolor": "white"
           },
           "zaxis": {
            "backgroundcolor": "#E5ECF6",
            "gridcolor": "white",
            "gridwidth": 2,
            "linecolor": "white",
            "showbackground": true,
            "ticks": "",
            "zerolinecolor": "white"
           }
          },
          "shapedefaults": {
           "line": {
            "color": "#2a3f5f"
           }
          },
          "ternary": {
           "aaxis": {
            "gridcolor": "white",
            "linecolor": "white",
            "ticks": ""
           },
           "baxis": {
            "gridcolor": "white",
            "linecolor": "white",
            "ticks": ""
           },
           "bgcolor": "#E5ECF6",
           "caxis": {
            "gridcolor": "white",
            "linecolor": "white",
            "ticks": ""
           }
          },
          "title": {
           "x": 0.05
          },
          "xaxis": {
           "automargin": true,
           "gridcolor": "white",
           "linecolor": "white",
           "ticks": "",
           "title": {
            "standoff": 15
           },
           "zerolinecolor": "white",
           "zerolinewidth": 2
          },
          "yaxis": {
           "automargin": true,
           "gridcolor": "white",
           "linecolor": "white",
           "ticks": "",
           "title": {
            "standoff": 15
           },
           "zerolinecolor": "white",
           "zerolinewidth": 2
          }
         }
        },
        "xaxis": {
         "anchor": "y",
         "domain": [
          0,
          1
         ],
         "title": {
          "text": "value"
         }
        },
        "yaxis": {
         "anchor": "x",
         "domain": [
          0,
          1
         ],
         "title": {
          "text": "count"
         }
        }
       }
      }
     },
     "metadata": {},
     "output_type": "display_data"
    }
   ],
   "source": [
    "ex.histogram(x=[fc2_weights_m[a,:] for a in range(20)])\n"
   ]
  },
  {
   "cell_type": "code",
   "execution_count": 51,
   "metadata": {},
   "outputs": [],
   "source": [
    "compression_char_array = []\n",
    "\n",
    "for q in range(20):\n",
    "    for i in range(112):\n",
    "        compression_char_array.append(fc2_weights[q,i].item())"
   ]
  },
  {
   "cell_type": "code",
   "execution_count": 52,
   "metadata": {},
   "outputs": [
    {
     "name": "stdout",
     "output_type": "stream",
     "text": [
      "2240\n"
     ]
    }
   ],
   "source": [
    "print(len(compression_char_array))\n"
   ]
  },
  {
   "cell_type": "code",
   "execution_count": 53,
   "metadata": {},
   "outputs": [],
   "source": [
    "compression_char_array_np = np.array(compression_char_array,dtype=np.int8) \n"
   ]
  },
  {
   "cell_type": "code",
   "execution_count": 54,
   "metadata": {},
   "outputs": [
    {
     "name": "stdout",
     "output_type": "stream",
     "text": [
      "0 71913 71913 17920 -53993\n",
      "1 37956 40196 17920 -22276\n",
      "2 19961 24441 17920 -6521\n",
      "3 10918 17638 17920 282\n",
      "4 6392 15352 17920 2568\n",
      "5 4242 15442 17920 2478\n",
      "6 3344 16784 17920 1136\n",
      "7 3080 18760 17920 -840\n"
     ]
    }
   ],
   "source": [
    "compression_char_array_np = np.array(compression_char_array,dtype=np.uint8) \n",
    "\n",
    "for number_of_bits in range(8):\n",
    "    lower_half = np.right_shift(np.left_shift(compression_char_array_np,number_of_bits),number_of_bits)\n",
    "    upper_half = np.right_shift(compression_char_array_np,number_of_bits) \n",
    "\n",
    "    value, count = np.unique(upper_half,return_counts=True)\n",
    "    size= np.sum(np.sort(count)[::-1]*(np.arange(len(count))+1))\n",
    "    total_size = size  + len(lower_half)*number_of_bits\n",
    "    print(number_of_bits,size,total_size, 8*len(compression_char_array_np), 8*len(compression_char_array_np)-total_size)\n"
   ]
  },
  {
   "cell_type": "code",
   "execution_count": 55,
   "metadata": {},
   "outputs": [
    {
     "name": "stdout",
     "output_type": "stream",
     "text": [
      "[ 0 15 14  1 13  2 12  3  4 11 10  5  6  8  9  7] 16\n",
      "{0: '0', 15: '10', 14: '110', 1: '1110', 13: '11110', 2: '111110', 12: '1111110', 3: '11111110', 4: '111111110', 11: '1111111110', 10: '11111111110', 5: '111111111110', 6: '1111111111110', 8: '11111111111110', 9: '111111111111110', 7: '1111111111111110'}\n",
      "00100000100100110010100100101010100100101000000111010010011010010010001001001101000010111001110011100010010010101110100001101100110011111111101101011111001111100111110111001111001111011111101111111111011110011111100111110111110011111110011111111111010011111100111111111001111110111100000010010000000101001001101010100110010000010100000000010010101000000100100101101010000111000100110110101000010001000001001001010011110011111101101101111111001111111111100111111110111111100110011011111111101111111111011110011111111100000000000010010011001101001001010101001100000001110110101111001111110011011001111100111111101111111011111111000110011111111101111001111001111001110000010100000111011101001001101100110010001000010001110000010010010110010010010100100101000111000100010100000000110011010100000111011000001010100100101000001011010010010000001010000001110011001101111111110111111111010011001111111011111001111111001111111100110111100111111111001111110110010011101001001000100111001111111011101111111010010011111111101111110001110001000111111011110001001111111101110011001101111111110111111111101001111100111111110111111100111001011011111101001000001100111111000111110011111111001110111001100111101111110111111011110011110001001111100111111111110111110111110110011111100111111111011110011001001110001111100110001100110101000001110001100110110110111001111100111011100101111111101111100111110101111111011111011111001000111110111110101110101110011101110011111010111111110111110011111110101111101101110111110101110101111101111111101010011001011111110011111111010111011100111110101101111111011111111011111110011111111111100011010111101011110111111101111111101111101011111111111111100111011111010111010111111111110111111101111111101111111010111110100111110011100111110111110111111111110111010111111111110101111111111100101001110111110111011100010111011111110001111111110111100110011110111111101111111101111111001111111100111111011110011111111100111111111111101111110111111111100011100111111111111011111111001110011111011010110011111100110110000011011011001100000111001111101010001001101100110011110111011100011100110100111001011101111100010011011001000011101000010100000001001100010001101000010111011100000010010011010010010011011001111001100111011111110011111111001111101110011001111011110111101111001111110010100111110011111111011111011111011001111001111011110000101110010010011011000011100011001001000100010110100100010010010000010001000101001001000100100101000010010100001000100110101100000010010010110101001000000011010110100100111000001011011010011000111001110011101111011110111111001111111110011111101111110011100111110111111111111011111111111111101110011111110011111111110111111111001111111111001111111111111011111101111110111001110011111011100010001111100111110111011111011001111001111111110111100111100111111000111110011111001010011001101011010010011101110000101000000010010011010101001000000011101001000001001001010110100100101000001001001001010000101010000011010001101100100101110111010010011011000011101110111110100110011011000010011101001001111110110011001111001011111001111100111111111110111111100001110111101111110111111001111111111001111011110000111110111110111110100001101001001011101110000011110110010011001010010010000001010100110001110001111011000011000001000111000011111110101011001100111110000011111101111110111111111011001111001111111101111111100111110011111111111011111101111110111100111111111100111101111000010111111101111101111100111110001100111100111111111011110110000011000100101011111110001110011100010010101111110100110010001100110110111101110000111111101111111100010001001100000111101011010011100111111111110111011101111001111111110011111111110111111001001111110111110111111110111111111111001111111111111110011111110111110011111100111111111011111101111111111011100001111111101111100111100111111111101111111110110111110101111111001111111100010011000001110011110111100110011110011111010011100111111111101111001110011101111111011111111011110011111111100111111111011110000111111110111111110111111110100111100111111111101111110001010010010100100000100000001001100101100100101010100111001110100100100000111110001001100111101101111110100100111011100100110101000111111100000110011111101111111110111111111011001111001111111111101111111001111111001111111111101101111011111111100111111111100111101111110000111011101110100100101000101000011101011101000011011001000111011111010011001111110111100110011110011111011100001111011001111001111110111011101111100111111100111101111001111110011111111110110101111100111110011111111111101111111111100111000111111111011111111110111111111001111111111111100111111011110011111001111101111111011111111000111111100101100111100111111111011110110100001111011001100111101001110011100100001110111001001011011110111000001001111001111010101111100111111100101001001001000100110111100110011000001100111101100001011111011111111000001111111110111111001111110011111111110111001111111111100111111111111111001111101110011111100111111111111110111101111011100111111100011100100111101100001110011110100111100111101101110001111111001101000110100111100111111010111101110011111001111111011111110011100111011110111111011111100111111111001101001110011111001110100110011010010010101010010010100000001000001001001000001001010010011000000010100100100100000010010010101000100000011111111011111001111100111110110111101111111110011111111111111001111010011111001111101010111111001111110011010011100111110111110111110000011110100111100111111011110101000001000011100011001001101001001010101110010001110000010101001100111000000110101000011100010011010110001000000111110111001111001111011111111110111111111111101111110011111100110001110011101111111111101111111111110111111110011111111111001111110111100111111111111110011111111111111011111111110111111111111101100100111111111111011111111001111100111111110111101111011111111100111111111100110100111001111111101101011110011110011000111001110111011111010010011110111111001111001111110111110111011111110000110100110011110110111011100111000001001001010010011010001010010001010110011000100111001110011101001001101110011100111101010100110011110110011001111011111110111110111110011111111001011110011001111110111110111110111111100111111100111111011110011111111110011111111111110110111101110011100111111111111011111111001111111001111111111101100111111111100111111111111100111111011111100001110111001001001011100111001110101111110110011111100000\n",
      "6392\n"
     ]
    }
   ],
   "source": [
    "number_of_bits = 4\n",
    "\n",
    "lower_half = np.right_shift(np.left_shift(compression_char_array_np,number_of_bits),number_of_bits)\n",
    "upper_half = np.right_shift(compression_char_array_np,number_of_bits) \n",
    "\n",
    "value, count = np.unique(upper_half,return_counts=True)\n",
    "size= np.sum(np.sort(count)[::-1]*(np.arange(len(count))+1)) + len(lower_half)*number_of_bits\n",
    "\n",
    "\n",
    "\n",
    "idx=np.argsort(count)[::-1]\n",
    "print(value[idx], len(idx))\n",
    "encoded_values = value[idx]\n",
    "num_of_ones=np.arange(len(count))\n",
    "dict_encoding=dict([(encoded_values[i],'1'*num_of_ones[i]+'0') for i in range(len(count))])\n",
    "\n",
    "print(dict_encoding)\n",
    "bit_stream = ''\n",
    "for i in range(len(upper_half)):\n",
    "    bit_stream += dict_encoding[upper_half[i]]\n",
    "\n",
    "print(bit_stream)\n",
    "print(len(bit_stream))\n",
    "\n"
   ]
  },
  {
   "cell_type": "code",
   "execution_count": 56,
   "metadata": {},
   "outputs": [
    {
     "name": "stdout",
     "output_type": "stream",
     "text": [
      "00100000100100110010100100101010100100101000000111010010011010010010001001001101000010111001110011100010010010101110100001101100110011111111101101011111001111100111110111001111001111011111101111111111011110011111100111110111110011111110011111111111010011111100111111111001111110111100000010010000000101001001101010100110010000010100000000010010101000000100100101101010000111000100110110101000010001000001001001010011110011111101101101111111001111111111100111111110111111100110011011111111101111111111011110011111111100000000000010010011001101001001010101001100000001110110101111001111110011011001111100111111101111111011111111000110011111111101111001111001111001110000010100000111011101001001101100110010001000010001110000010010010110010010010100100101000111000100010100000000110011010100000111011000001010100100101000001011010010010000001010000001110011001101111111110111111111010011001111111011111001111111001111111100110111100111111111001111110110010011101001001000100111001111111011101111111010010011111111101111110001110001000111111011110001001111111101110011001101111111110111111111101001111100111111110111111100111001011011111101001000001100111111000111110011111111001110111001100111101111110111111011110011110001001111100111111111110111110111110110011111100111111111011110011001001110001111100110001100110101000001110001100110110110111001111100111011100101111111101111100111110101111111011111011111001000111110111110101110101110011101110011111010111111110111110011111110101111101101110111110101110101111101111111101010011001011111110011111111010111011100111110101101111111011111111011111110011111111111100011010111101011110111111101111111101111101011111111111111100111011111010111010111111111110111111101111111101111111010111110100111110011100111110111110111111111110111010111111111110101111111111100101001110111110111011100010111011111110001111111110111100110011110111111101111111101111111001111111100111111011110011111111100111111111111101111110111111111100011100111111111111011111111001110011111011010110011111100110110000011011011001100000111001111101010001001101100110011110111011100011100110100111001011101111100010011011001000011101000010100000001001100010001101000010111011100000010010011010010010011011001111001100111011111110011111111001111101110011001111011110111101111001111110010100111110011111111011111011111011001111001111011110000101110010010011011000011100011001001000100010110100100010010010000010001000101001001000100100101000010010100001000100110101100000010010010110101001000000011010110100100111000001011011010011000111001110011101111011110111111001111111110011111101111110011100111110111111111111011111111111111101110011111110011111111110111111111001111111111001111111111111011111101111110111001110011111011100010001111100111110111011111011001111001111111110111100111100111111000111110011111001010011001101011010010011101110000101000000010010011010101001000000011101001000001001001010110100100101000001001001001010000101010000011010001101100100101110111010010011011000011101110111110100110011011000010011101001001111110110011001111001011111001111100111111111110111111100001110111101111110111111001111111111001111011110000111110111110111110100001101001001011101110000011110110010011001010010010000001010100110001110001111011000011000001000111000011111110101011001100111110000011111101111110111111111011001111001111111101111111100111110011111111111011111101111110111100111111111100111101111000010111111101111101111100111110001100111100111111111011110110000011000100101011111110001110011100010010101111110100110010001100110110111101110000111111101111111100010001001100000111101011010011100111111111110111011101111001111111110011111111110111111001001111110111110111111110111111111111001111111111111110011111110111110011111100111111111011111101111111111011100001111111101111100111100111111111101111111110110111110101111111001111111100010011000001110011110111100110011110011111010011100111111111101111001110011101111111011111111011110011111111100111111111011110000111111110111111110111111110100111100111111111101111110001010010010100100000100000001001100101100100101010100111001110100100100000111110001001100111101101111110100100111011100100110101000111111100000110011111101111111110111111111011001111001111111111101111111001111111001111111111101101111011111111100111111111100111101111110000111011101110100100101000101000011101011101000011011001000111011111010011001111110111100110011110011111011100001111011001111001111110111011101111100111111100111101111001111110011111111110110101111100111110011111111111101111111111100111000111111111011111111110111111111001111111111111100111111011110011111001111101111111011111111000111111100101100111100111111111011110110100001111011001100111101001110011100100001110111001001011011110111000001001111001111010101111100111111100101001001001000100110111100110011000001100111101100001011111011111111000001111111110111111001111110011111111110111001111111111100111111111111111001111101110011111100111111111111110111101111011100111111100011100100111101100001110011110100111100111101101110001111111001101000110100111100111111010111101110011111001111111011111110011100111011110111111011111100111111111001101001110011111001110100110011010010010101010010010100000001000001001001000001001010010011000000010100100100100000010010010101000100000011111111011111001111100111110110111101111111110011111111111111001111010011111001111101010111111001111110011010011100111110111110111110000011110100111100111111011110101000001000011100011001001101001001010101110010001110000010101001100111000000110101000011100010011010110001000000111110111001111001111011111111110111111111111101111110011111100110001110011101111111111101111111111110111111110011111111111001111110111100111111111111110011111111111111011111111110111111111111101100100111111111111011111111001111100111111110111101111011111111100111111111100110100111001111111101101011110011110011000111001110111011111010010011110111111001111001111110111110111011111110000110100110011110110111011100111000001001001010010011010001010010001010110011000100111001110011101001001101110011100111101010100110011110110011001111011111110111110111110011111111001011110011001111110111110111110111111100111111100111111011110011111111110011111111111110110111101110011100111111111111011111111001111111001111111111101100111111111100111111111111100111111011111100001110111001001001011100111001110101111110110011111100000\n",
      "0010000010010011001010010010101010010010100000011101001001101001001000100100110100001011100111001110001001001010111010000110110011001111111110110101111100111110011111011100111100111101111110111111111101111001111110011111011111001111111001111111111101001111110011111111100111111011110000001001000000010100100110101010011001000001010000000001001010100000010010010110101000011100010011011010100001000100000100100101001111001111110110110111111100111111111110011111111011111110011001101111111110111111111101111001111111110000000000001001001100110100100101010100110000000111011010111100111111001101100111110011111110111111101111111100011001111111110111100111100111100111000001010000011101110100100110110011001000100001000111000001001001011001001001010010010100011100010001010000000011001101010000011101100000101010010010100000101101001001000000101000000111001100110111111111011111111101001100111111101111100111111100111111110011011110011111111100111111011001001110100100100010011100111111101110111111101001001111111110111111000111000100011111101111000100111111110111001100110111111111011111111110100111110011111111011111110011100101101111110100100000110011111100011111001111111100111011100110011110111111011111101111001111000100111110011111111111011111011111011001111110011111111101111001100100111000111110011000110011010100000111000110011011011011100111110011101110010111111110111110011111010111111101111101111100100011111011111010111010111001110111001111101011111111011111001111111010111110110111011111010111010111110111111110101001100101111111001111111101011101110011111010110111111101111111101111111001111111111110001101011110101111011111110111111110111110101111111111111110011101111101011101011111111111011111110111111110111111101011111010011111001110011111011111011111111111011101011111111111010111111111110010100111011111011101110001011101111111000111111111011110011001111011111110111111110111111100111111110011111101111001111111110011111111111110111111011111111110001110011111111111101111111100111001111101101011001111110011011000001101101100110000011100111110101000100110110011001111011101110001110011010011100101110111110001001101100100001110100001010000000100110001000110100001011101110000001001001101001001001101100111100110011101111111001111111100111110111001100111101111011110111100111111001010011111001111111101111101111101100111100111101111000010111001001001101100001110001100100100010001011010010001001001000001000100010100100100010010010100001001010000100010011010110000001001001011010100100000001101011010010011100000101101101001100011100111001110111101111011111100111111111001111110111111001110011111011111111111101111111111111110111001111111001111111111011111111100111111111100111111111111101111110111111011100111001111101110001000111110011111011101111101100111100111111111011110011110011111100011111001111100101001100110101101001001110111000010100000001001001101010100100000001110100100000100100101011010010010100000100100100101000010101000001101000110110010010111011101001001101100001110111011111010011001101100001001110100100111111011001100111100101111100111110011111111111011111110000111011110111111011111100111111111100111101111000011111011111011111010000110100100101110111000001111011001001100101001001000000101010011000111000111101100001100000100011100001111111010101100110011111000001111110111111011111111101100111100111111110111111110011111001111111111101111110111111011110011111111110011110111100001011111110111110111110011111000110011110011111111101111011000001100010010101111111000111001110001001010111111010011001000110011011011110111000011111110111111110001000100110000011110101101001110011111111111011101110111100111111111001111111111011111100100111111011111011111111011111111111100111111111111111001111111011111001111110011111111101111110111111111101110000111111110111110011110011111111110111111111011011111010111111100111111110001001100000111001111011110011001111001111101001110011111111110111100111001110111111101111111101111001111111110011111111101111000011111111011111111011111111010011110011111111110111111000101001001010010000010000000100110010110010010101010011100111010010010000011111000100110011110110111111010010011101110010011010100011111110000011001111110111111111011111111101100111100111111111110111111100111111100111111111110110111101111111110011111111110011110111111000011101110111010010010100010100001110101110100001101100100011101111101001100111111011110011001111001111101110000111101100111100111111011101110111110011111110011110111100111111001111111111011010111110011111001111111111110111111111110011100011111111101111111111011111111100111111111111110011111101111001111100111110111111101111111100011111110010110011110011111111101111011010000111101100110011110100111001110010000111011100100101101111011100000100111100111101010111110011111110010100100100100010011011110011001100000110011110110000101111101111111100000111111111011111100111111001111111111011100111111111110011111111111111100111110111001111110011111111111111011110111101110011111110001110010011110110000111001111010011110011110110111000111111100110100011010011110011111101011110111001111100111111101111111001110011101111011111101111110011111111100110100111001111100111010011001101001001010101001001010000000100000100100100000100101001001100000001010010010010000001001001010100010000001111111101111100111110011111011011110111111111001111111111111100111101001111100111110101011111100111111001101001110011111011111011111000001111010011110011111101111010100000100001110001100100110100100101010111001000111000001010100110011100000011010100001110001001101011000100000011111011100111100111101111111111011111111111110111111001111110011000111001110111111111110111111111111011111111001111111111100111111011110011111111111111001111111111111101111111111011111111111110110010011111111111101111111100111110011111111011110111101111111110011111111110011010011100111111110110101111001111001100011100111011101111101001001111011111100111100111111011111011101111111000011010011001111011011101110011100000100100101001001101000101001000101011001100010011100111001110100100110111001110011110101010011001111011001100111101111111011111011111001111111100101111001100111111011111011111011111110011111110011111101111001111111111001111111111111011011110111001110011111111111101111111100111111100111111111110110011111111110011111111111110011111101111110000111011100100100101110011100111010111111011001111110000000000000\n",
      "0010000010010011001010010010101010010010100000011101001001101001001000100100110100001011100111001110001001001010111010000110110011001111111110110101111100111110011111011100111100111101111110111111111101111001111110011111011111001111111001111111111101001111110011111111100111111011110000001001000000010100100110101010011001000001010000000001001010100000010010010110101000011100010011011010100001000100000100100101001111001111110110110111111100111111111110011111111011111110011001101111111110111111111101111001111111110000000000001001001100110100100101010100110000000111011010111100111111001101100111110011111110111111101111111100011001111111110111100111100111100111000001010000011101110100100110110011001000100001000111000001001001011001001001010010010100011100010001010000000011001101010000011101100000101010010010100000101101001001000000101000000111001100110111111111011111111101001100111111101111100111111100111111110011011110011111111100111111011001001110100100100010011100111111101110111111101001001111111110111111000111000100011111101111000100111111110111001100110111111111011111111110100111110011111111011111110011100101101111110100100000110011111100011111001111111100111011100110011110111111011111101111001111000100111110011111111111011111011111011001111110011111111101111001100100111000111110011000110011010100000111000110011011011011100111110011101110010111111110111110011111010111111101111101111100100011111011111010111010111001110111001111101011111111011111001111111010111110110111011111010111010111110111111110101001100101111111001111111101011101110011111010110111111101111111101111111001111111111110001101011110101111011111110111111110111110101111111111111110011101111101011101011111111111011111110111111110111111101011111010011111001110011111011111011111111111011101011111111111010111111111110010100111011111011101110001011101111111000111111111011110011001111011111110111111110111111100111111110011111101111001111111110011111111111110111111011111111110001110011111111111101111111100111001111101101011001111110011011000001101101100110000011100111110101000100110110011001111011101110001110011010011100101110111110001001101100100001110100001010000000100110001000110100001011101110000001001001101001001001101100111100110011101111111001111111100111110111001100111101111011110111100111111001010011111001111111101111101111101100111100111101111000010111001001001101100001110001100100100010001011010010001001001000001000100010100100100010010010100001001010000100010011010110000001001001011010100100000001101011010010011100000101101101001100011100111001110111101111011111100111111111001111110111111001110011111011111111111101111111111111110111001111111001111111111011111111100111111111100111111111111101111110111111011100111001111101110001000111110011111011101111101100111100111111111011110011110011111100011111001111100101001100110101101001001110111000010100000001001001101010100100000001110100100000100100101011010010010100000100100100101000010101000001101000110110010010111011101001001101100001110111011111010011001101100001001110100100111111011001100111100101111100111110011111111111011111110000111011110111111011111100111111111100111101111000011111011111011111010000110100100101110111000001111011001001100101001001000000101010011000111000111101100001100000100011100001111111010101100110011111000001111110111111011111111101100111100111111110111111110011111001111111111101111110111111011110011111111110011110111100001011111110111110111110011111000110011110011111111101111011000001100010010101111111000111001110001001010111111010011001000110011011011110111000011111110111111110001000100110000011110101101001110011111111111011101110111100111111111001111111111011111100100111111011111011111111011111111111100111111111111111001111111011111001111110011111111101111110111111111101110000111111110111110011110011111111110111111111011011111010111111100111111110001001100000111001111011110011001111001111101001110011111111110111100111001110111111101111111101111001111111110011111111101111000011111111011111111011111111010011110011111111110111111000101001001010010000010000000100110010110010010101010011100111010010010000011111000100110011110110111111010010011101110010011010100011111110000011001111110111111111011111111101100111100111111111110111111100111111100111111111110110111101111111110011111111110011110111111000011101110111010010010100010100001110101110100001101100100011101111101001100111111011110011001111001111101110000111101100111100111111011101110111110011111110011110111100111111001111111111011010111110011111001111111111110111111111110011100011111111101111111111011111111100111111111111110011111101111001111100111110111111101111111100011111110010110011110011111111101111011010000111101100110011110100111001110010000111011100100101101111011100000100111100111101010111110011111110010100100100100010011011110011001100000110011110110000101111101111111100000111111111011111100111111001111111111011100111111111110011111111111111100111110111001111110011111111111111011110111101110011111110001110010011110110000111001111010011110011110110111000111111100110100011010011110011111101011110111001111100111111101111111001110011101111011111101111110011111111100110100111001111100111010011001101001001010101001001010000000100000100100100000100101001001100000001010010010010000001001001010100010000001111111101111100111110011111011011110111111111001111111111111100111101001111100111110101011111100111111001101001110011111011111011111000001111010011110011111101111010100000100001110001100100110100100101010111001000111000001010100110011100000011010100001110001001101011000100000011111011100111100111101111111111011111111111110111111001111110011000111001110111111111110111111111111011111111001111111111100111111011110011111111111111001111111111111101111111111011111111111110110010011111111111101111111100111110011111111011110111101111111110011111111110011010011100111111110110101111001111001100011100111011101111101001001111011111100111100111111011111011101111111000011010011001111011011101110011100000100100101001001101000101001000101011001100010011100111001110100100110111001110011110101010011001111011001100111101111111011111011111001111111100101111001100111111011111011111011111110011111110011111101111001111111111001111111111111011011110111001110011111111111101111111100111111100111111111110110011111111110011111111111110011111101111110000111011100100100101110011100111010111111011001111110000000000000\n"
     ]
    }
   ],
   "source": [
    "bit_stream_padded = bit_stream + '0'*(32-len(bit_stream)%32)\n",
    "print(bit_stream)\n",
    "print(bit_stream_padded)\n",
    "print(bit_stream_padded)"
   ]
  },
  {
   "cell_type": "code",
   "execution_count": 57,
   "metadata": {},
   "outputs": [],
   "source": [
    "def reconstruct_data(lower_half, bit_stream, dict_decoding:dict):\n",
    "    out = np.zeros((20,112),dtype=np.int8)\n",
    "    p=0\n",
    "    for q in range(20):\n",
    "        for i in range(112):\n",
    "            out[q,i] = lower_half[p]\n",
    "            p+=1\n",
    "\n",
    "    field = ''\n",
    "    q=0\n",
    "    i=0\n",
    "    for bit in bit_stream:\n",
    "        field += bit\n",
    "        if bit=='0':\n",
    "            value = len(field)-1\n",
    "            value = dict_decoding[value]\n",
    "            out[q,i] = np.bitwise_or(out[q,i],np.uint8(value)<<4)\n",
    "            field = ''\n",
    "            i+=1\n",
    "            if i==112:\n",
    "                i=0\n",
    "                q+=1\n",
    "            if q==20:\n",
    "                break\n",
    "\n",
    "    return out\n"
   ]
  },
  {
   "cell_type": "code",
   "execution_count": 58,
   "metadata": {},
   "outputs": [],
   "source": [
    "keys, values = dict_encoding.keys() , dict_encoding.values()\n",
    "values = [len(a)-1 for a in values]\n",
    "dict_decoding = dict(zip(values,keys))\n",
    "\n",
    "out = reconstruct_data(lower_half,bit_stream,dict_decoding)\n"
   ]
  },
  {
   "cell_type": "code",
   "execution_count": 59,
   "metadata": {},
   "outputs": [
    {
     "name": "stdout",
     "output_type": "stream",
     "text": [
      "{0: 0, 1: 15, 2: 14, 3: 1, 4: 13, 5: 2, 6: 12, 7: 3, 8: 4, 9: 11, 10: 10, 11: 5, 12: 6, 13: 8, 14: 9, 15: 7}\n",
      "[  0 240 224  16 208  32 192  48  64 176 160  80  96 128 144 112]\n",
      "0,240,224,16,208,32,192,48,64,176,160,80,96,128,144,112\n"
     ]
    }
   ],
   "source": [
    "print(dict_decoding)\n",
    "decode_array = np.left_shift(np.array(list(dict_decoding.values())),4)\n",
    "print(decode_array)\n",
    "print(','.join([str(a) for a in decode_array]))"
   ]
  },
  {
   "cell_type": "code",
   "execution_count": 60,
   "metadata": {},
   "outputs": [
    {
     "name": "stdout",
     "output_type": "stream",
     "text": [
      "[[0. 0. 0. ... 0. 0. 0.]\n",
      " [0. 0. 0. ... 0. 0. 0.]\n",
      " [0. 0. 0. ... 0. 0. 0.]\n",
      " ...\n",
      " [0. 0. 0. ... 0. 0. 0.]\n",
      " [0. 0. 0. ... 0. 0. 0.]\n",
      " [0. 0. 0. ... 0. 0. 0.]]\n",
      "True\n"
     ]
    }
   ],
   "source": [
    "print(out-fc2_weights)\n",
    "print(np.all((out-fc2_weights)==0))"
   ]
  },
  {
   "cell_type": "code",
   "execution_count": 61,
   "metadata": {},
   "outputs": [],
   "source": [
    "bit_stream_padded_np = np.array([int(bit_stream_padded[i:i+32], 2) for i in range(0, len(bit_stream_padded), 32)], dtype=np.uint32)\n"
   ]
  },
  {
   "cell_type": "code",
   "execution_count": 62,
   "metadata": {},
   "outputs": [],
   "source": [
    "\n",
    "\n",
    "with open(file,mode='a+') as f:\n",
    "    # FC2 Compressed\n",
    "    f.write('const uint32_t upper_half[]{')\n",
    "    for a in range(bit_stream_padded_np.shape[0]):\n",
    "        f.write(f'{bit_stream_padded_np[a]},')\n",
    "    f.write('};')\n",
    "    f.write('\\n\\n')\n",
    "\n",
    "    f.write('const uint8_t lower_half[]{')\n",
    "    for i in range(len(lower_half)//2):\n",
    "            f.write(f'{lower_half[i*2].astype(np.uint8)<<4 | lower_half[i*2+1].astype(np.uint8)} ')\n",
    "            f.write(',')\n",
    "        # f.write('}')\n",
    "    f.write('};\\n')\n",
    "\n",
    "    f.write(f'const uint8_t decoder[]{{{\", \".join([str(a) for a in decode_array])}}};')\n"
   ]
  }
 ],
 "metadata": {
  "kernelspec": {
   "display_name": ".env",
   "language": "python",
   "name": "python3"
  },
  "language_info": {
   "codemirror_mode": {
    "name": "ipython",
    "version": 3
   },
   "file_extension": ".py",
   "mimetype": "text/x-python",
   "name": "python",
   "nbconvert_exporter": "python",
   "pygments_lexer": "ipython3",
   "version": "3.11.0rc2"
  }
 },
 "nbformat": 4,
 "nbformat_minor": 2
}
